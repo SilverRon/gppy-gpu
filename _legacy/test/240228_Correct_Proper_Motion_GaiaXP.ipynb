{
 "cells": [
  {
   "cell_type": "code",
   "execution_count": 1,
   "metadata": {},
   "outputs": [],
   "source": [
    "import glob\n",
    "import os\n",
    "import numpy as np\n",
    "from astropy.io import fits\n",
    "from astropy import units as u\n",
    "from astropy.table import Table, vstack, hstack\n",
    "from astropy.coordinates import SkyCoord\n",
    "from astropy.time import Time"
   ]
  },
  {
   "cell_type": "code",
   "execution_count": 2,
   "metadata": {},
   "outputs": [],
   "source": [
    "import matplotlib.pyplot as plt\n",
    "import matplotlib as mpl\n",
    "from IPython.core.interactiveshell import InteractiveShell\n",
    "\n",
    "InteractiveShell.ast_node_interactivity = \"last_expr\"\n",
    "mpl.rcParams[\"axes.titlesize\"] = 14\n",
    "mpl.rcParams[\"axes.labelsize\"] = 20\n",
    "plt.rcParams['savefig.dpi'] = 500\n",
    "plt.rc('font', family='serif')"
   ]
  },
  {
   "cell_type": "code",
   "execution_count": 3,
   "metadata": {},
   "outputs": [],
   "source": [
    "path_sample_gaiaxp = \"/large_data/Calibration/GaiaXP/matched/ver_0.2\""
   ]
  },
  {
   "cell_type": "code",
   "execution_count": 4,
   "metadata": {},
   "outputs": [
    {
     "name": "stdout",
     "output_type": "stream",
     "text": [
      "250 found\n"
     ]
    }
   ],
   "source": [
    "sample_gaiaxp_list = sorted(glob.glob(f\"{path_sample_gaiaxp}/7DT_photometry_???.merged.csv\"))\n",
    "print(f\"{len(sample_gaiaxp_list)} found\")"
   ]
  },
  {
   "cell_type": "code",
   "execution_count": 5,
   "metadata": {},
   "outputs": [],
   "source": [
    "import cupy as cp\n",
    "import cudf"
   ]
  },
  {
   "cell_type": "code",
   "execution_count": 6,
   "metadata": {},
   "outputs": [],
   "source": [
    "nn = 0\n",
    "sample_gaiaxp = sample_gaiaxp_list[nn]"
   ]
  },
  {
   "cell_type": "code",
   "execution_count": 7,
   "metadata": {},
   "outputs": [],
   "source": [
    "df = cudf.read_csv(sample_gaiaxp)"
   ]
  },
  {
   "cell_type": "code",
   "execution_count": 8,
   "metadata": {},
   "outputs": [
    {
     "name": "stdout",
     "output_type": "stream",
     "text": [
      "Unnamed: 0\n",
      "source_id\n",
      "ra\n",
      "dec\n",
      "parallax\n",
      "parallax_error\n",
      "pmra\n",
      "pmra_error\n",
      "pmdec\n",
      "pmdec_error\n",
      "ruwe\n",
      "parallax_over_error\n",
      "phot_bp_rp_excess_factor\n",
      "phot_g_mean_mag\n",
      "phot_bp_mean_mag\n",
      "phot_rp_mean_mag\n",
      "bp_rp\n",
      "phot_variable_flag\n",
      "ipd_frac_multi_peak\n",
      "ipd_frac_odd_win\n",
      "gaia_dr3_self_id1\n",
      "gaia_dr3_self_dist1\n",
      "gaia_dr3_self_id2\n",
      "gaia_dr3_self_dist2\n",
      "cnt_neighbours_15arcsec\n"
     ]
    }
   ],
   "source": [
    "for key in df.keys():\n",
    "\tif ('7DT' not in key) & ('skymapper' not in key):\n",
    "\t\tprint(key)"
   ]
  },
  {
   "cell_type": "markdown",
   "metadata": {},
   "source": [
    "- `ra`, `dec`, `parallax`, `pmra`, `pmdec`\n",
    "- `parallax_error`, `pmra_error`, `pmdec_error`"
   ]
  },
  {
   "cell_type": "code",
   "execution_count": 9,
   "metadata": {},
   "outputs": [],
   "source": [
    "# Null 값을 0으로 대체\n",
    "df['pmra'] = df['pmra'].fillna(0)\n",
    "df['pmdec'] = df['pmdec'].fillna(0)\n",
    "df['parallax'] = df['parallax'].fillna(0)"
   ]
  },
  {
   "cell_type": "code",
   "execution_count": 32,
   "metadata": {},
   "outputs": [
    {
     "name": "stderr",
     "output_type": "stream",
     "text": [
      "/home/gp/.conda/envs/rapids-24.02/lib/python3.10/site-packages/astropy/units/equivalencies.py:100: RuntimeWarning: divide by zero encountered in divide\n",
      "  d = 1 / x\n",
      "/home/gp/.conda/envs/rapids-24.02/lib/python3.10/site-packages/astropy/units/quantity.py:666: RuntimeWarning: invalid value encountered in multiply\n",
      "  result = super().__array_ufunc__(function, method, *arrays, **kwargs)\n"
     ]
    },
    {
     "name": "stdout",
     "output_type": "stream",
     "text": [
      "876565 stars to 876565 stars\n"
     ]
    },
    {
     "name": "stderr",
     "output_type": "stream",
     "text": [
      "/home/gp/.conda/envs/rapids-24.02/lib/python3.10/site-packages/erfa/core.py:5020: RuntimeWarning: invalid value encountered in pmsafe\n",
      "  ra2, dec2, pmr2, pmd2, px2, rv2, c_retval = ufunc.pmsafe(\n",
      "/home/gp/.conda/envs/rapids-24.02/lib/python3.10/site-packages/erfa/core.py:154: ErfaWarning: ERFA function \"pmsafe\" yielded 837845 of \"distance overridden (Note 6)\", 36031 of \"binary logical OR of the above warnings\"\n",
      "  warnings.warn('ERFA function \"{}\" yielded {}'.format(func_name, wmsg),\n"
     ]
    }
   ],
   "source": [
    "# 2010년 별의 위치 (RA, Dec)와 자체 운동, parallax 정보\n",
    "# 예시 값입니다. 실제 값으로 교체해주세요.\n",
    "ra = cp.asnumpy(df['ra'].values) * u.deg  # Right Ascension\n",
    "dec = cp.asnumpy(df['dec'].values) * u.deg  # Declination\n",
    "pm_ra_cosdec = cp.asnumpy(df['pmra'].values) * u.arcsec/u.yr  # RA 방향 자체 운동 (cos(dec)를 곱한 값)\n",
    "pm_dec = cp.asnumpy(df['pmdec'].values) * u.arcsec/u.yr  # Dec 방향 자체 운동\n",
    "parallax = cp.asnumpy(df['parallax'].values) * u.mas  # Parallax\n",
    "distance = parallax.to(u.parsec, equivalencies=u.parallax())\n",
    "\n",
    "# 2010년과 2020년 시점 정의\n",
    "epoch_start = Time('2016-01-01')\n",
    "epoch_end = Time('2024-02-28')\n",
    "\n",
    "# 초기 위치와 운동 정보를 사용하여 SkyCoord 객체 생성\n",
    "star_coord = SkyCoord(ra=ra, dec=dec, distance=distance,\n",
    "                      pm_ra_cosdec=pm_ra_cosdec, pm_dec=pm_dec,\n",
    "                      obstime=epoch_start, frame='icrs')\n",
    "\n",
    "# 위치 업데이트\n",
    "star_coord_now = star_coord.apply_space_motion(new_obstime=epoch_end)\n",
    "\n",
    "print(f\"{len(star_coord)} stars to {len(star_coord_now)} stars\")"
   ]
  },
  {
   "cell_type": "code",
   "execution_count": 31,
   "metadata": {},
   "outputs": [
    {
     "data": {
      "text/plain": [
       "<matplotlib.legend.Legend at 0x7fa2604980a0>"
      ]
     },
     "execution_count": 31,
     "metadata": {},
     "output_type": "execute_result"
    },
    {
     "data": {
      "image/png": "[encoded data removed]",
      "text/plain": [
       "<Figure size 640x480 with 1 Axes>"
      ]
     },
     "metadata": {},
     "output_type": "display_data"
    }
   ],
   "source": [
    "# 결과 출력\n",
    "plt.plot(star_coord.ra.deg, star_coord.dec.deg, '.', alpha=0.5, label='2016')\n",
    "plt.plot(star_coord_now.ra.deg, star_coord.dec.deg, 's', alpha=0.5, label='2024-02-28')\n",
    "plt.xlim([5, 5.2])\n",
    "plt.ylim([6.25, 6.45])\n",
    "plt.legend()"
   ]
  }
 ],
 "metadata": {
  "kernelspec": {
   "display_name": "Python 3",
   "language": "python",
   "name": "python3"
  },
  "language_info": {
   "codemirror_mode": {
    "name": "ipython",
    "version": 3
   },
   "file_extension": ".py",
   "mimetype": "text/x-python",
   "name": "python",
   "nbconvert_exporter": "python",
   "pygments_lexer": "ipython3",
   "version": "3.10.13"
  }
 },
 "nbformat": 4,
 "nbformat_minor": 2
}
