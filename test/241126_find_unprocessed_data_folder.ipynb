{
 "cells": [
  {
   "cell_type": "code",
   "execution_count": 10,
   "metadata": {},
   "outputs": [],
   "source": [
    "import os\n",
    "import glob\n",
    "from astropy.table import Table"
   ]
  },
  {
   "cell_type": "code",
   "execution_count": 11,
   "metadata": {},
   "outputs": [],
   "source": [
    "# Define base directory\n",
    "base_dir = \"/lyman/data1/obsdata\"\n",
    "path_log = \"/lyman/data1/factory/log\""
   ]
  },
  {
   "cell_type": "code",
   "execution_count": 12,
   "metadata": {},
   "outputs": [
    {
     "name": "stdout",
     "output_type": "stream",
     "text": [
      "15 found\n"
     ]
    }
   ],
   "source": [
    "logs = sorted(glob.glob(os.path.join(path_log, '7dt??.log')))\n",
    "print(f\"{len(logs)} found\")\n",
    "log_dict = {}\n",
    "for log in logs:\n",
    "\tobs = (os.path.basename(log).split('.')[0]).upper()\n",
    "\tlog_dict[obs] = Table.read(log, format='csv')['date']"
   ]
  },
  {
   "cell_type": "code",
   "execution_count": 13,
   "metadata": {},
   "outputs": [
    {
     "name": "stdout",
     "output_type": "stream",
     "text": [
      "\n",
      "\n",
      "\n",
      "\n",
      "\n",
      "\n",
      "\n",
      "\n",
      "\n",
      "\n",
      "\n",
      "\n",
      "\n",
      "\n",
      "\n",
      "\n",
      "\n",
      "\n",
      "\n",
      "\n"
     ]
    }
   ],
   "source": [
    "months = ['07', '08', '09', '10', '11', '12']\n",
    "\n",
    "# Loop over the 7DT folders\n",
    "for folder in sorted(sorted(glob.glob(os.path.join(base_dir, '7DT??')))):\n",
    "    # Loop over months 8, 9, 10, 11\n",
    "    for month in months:\n",
    "        # Get all possible day folders\n",
    "        date_pattern = os.path.join(folder, f'2024-{month}-??_gain2750')\n",
    "        for date_folder in sorted(glob.glob(date_pattern)):\n",
    "            obs = date_folder.split('/')[-2]\n",
    "            # Count the number of .fits files in the folder\n",
    "            fits_files = glob.glob(os.path.join(date_folder, '*.fits'))\n",
    "            num_fits = len(fits_files)\n",
    "\n",
    "            # If fits files are 400 or fewer but more than 0, add the command\n",
    "            if (num_fits > 400) and (date_folder not in log_dict[obs]):\n",
    "                # command = f\"python 7DT_Routine_1x1_gain2750.py {os.path.basename(folder)} {date_folder}\"\n",
    "                logtxt = f\"{date_folder},1994-10-26_00:00:00_(KST),1994-10-26_00:00:00_(KST),too_many_frames({num_fits})\"\n",
    "                print(logtxt)\n",
    "    print()\n",
    "\n",
    "# /lyman/data1/obsdata/7DT02/2024-11-19_gain2750,2024-12-02_00:36:56_(KST),2024-12-02_01:37:04_(KST),-"
   ]
  },
  {
   "cell_type": "code",
   "execution_count": 14,
   "metadata": {},
   "outputs": [],
   "source": [
    "months = ['11', '12']"
   ]
  },
  {
   "cell_type": "code",
   "execution_count": 15,
   "metadata": {},
   "outputs": [
    {
     "name": "stdout",
     "output_type": "stream",
     "text": [
      "106 data found\n"
     ]
    }
   ],
   "source": [
    "output_commands = []\n",
    "\n",
    "# Loop over the 7DT folders\n",
    "for folder in sorted(sorted(glob.glob(os.path.join(base_dir, '7DT??')))):\n",
    "    # Loop over months 8, 9, 10, 11\n",
    "    for month in months:\n",
    "        # Get all possible day folders\n",
    "        date_pattern = os.path.join(folder, f'2024-{month}-??_gain2750')\n",
    "        for date_folder in sorted(glob.glob(date_pattern)):\n",
    "            obs = date_folder.split('/')[-2]\n",
    "            # Count the number of .fits files in the folder\n",
    "            fits_files = glob.glob(os.path.join(date_folder, '*.fits'))\n",
    "            num_fits = len(fits_files)\n",
    "\n",
    "            # If fits files are 400 or fewer but more than 0, add the command\n",
    "            if (0 < num_fits <= 400) and (date_folder not in log_dict[obs]):\n",
    "                command = f\"python 7DT_Routine_1x1_gain2750.py {os.path.basename(folder)} {date_folder}\"\n",
    "                output_commands.append(command)\n",
    "print(f\"{len(output_commands)} data found\")"
   ]
  },
  {
   "cell_type": "code",
   "execution_count": 16,
   "metadata": {},
   "outputs": [
    {
     "name": "stdout",
     "output_type": "stream",
     "text": [
      "python 7DT_Routine_1x1_gain2750.py 7DT02 /lyman/data1/obsdata/7DT02/2024-11-17_gain2750\n",
      "python 7DT_Routine_1x1_gain2750.py 7DT02 /lyman/data1/obsdata/7DT02/2024-11-28_gain2750\n",
      "python 7DT_Routine_1x1_gain2750.py 7DT02 /lyman/data1/obsdata/7DT02/2024-11-29_gain2750\n",
      "python 7DT_Routine_1x1_gain2750.py 7DT03 /lyman/data1/obsdata/7DT03/2024-11-11_gain2750\n",
      "python 7DT_Routine_1x1_gain2750.py 7DT03 /lyman/data1/obsdata/7DT03/2024-11-12_gain2750\n",
      "python 7DT_Routine_1x1_gain2750.py 7DT03 /lyman/data1/obsdata/7DT03/2024-11-13_gain2750\n",
      "python 7DT_Routine_1x1_gain2750.py 7DT03 /lyman/data1/obsdata/7DT03/2024-11-14_gain2750\n",
      "python 7DT_Routine_1x1_gain2750.py 7DT03 /lyman/data1/obsdata/7DT03/2024-11-15_gain2750\n",
      "python 7DT_Routine_1x1_gain2750.py 7DT03 /lyman/data1/obsdata/7DT03/2024-11-17_gain2750\n",
      "python 7DT_Routine_1x1_gain2750.py 7DT03 /lyman/data1/obsdata/7DT03/2024-11-27_gain2750\n",
      "python 7DT_Routine_1x1_gain2750.py 7DT03 /lyman/data1/obsdata/7DT03/2024-11-28_gain2750\n",
      "python 7DT_Routine_1x1_gain2750.py 7DT03 /lyman/data1/obsdata/7DT03/2024-11-29_gain2750\n",
      "python 7DT_Routine_1x1_gain2750.py 7DT04 /lyman/data1/obsdata/7DT04/2024-11-11_gain2750\n",
      "python 7DT_Routine_1x1_gain2750.py 7DT04 /lyman/data1/obsdata/7DT04/2024-11-12_gain2750\n",
      "python 7DT_Routine_1x1_gain2750.py 7DT04 /lyman/data1/obsdata/7DT04/2024-11-13_gain2750\n",
      "python 7DT_Routine_1x1_gain2750.py 7DT04 /lyman/data1/obsdata/7DT04/2024-11-14_gain2750\n",
      "python 7DT_Routine_1x1_gain2750.py 7DT04 /lyman/data1/obsdata/7DT04/2024-11-15_gain2750\n",
      "python 7DT_Routine_1x1_gain2750.py 7DT04 /lyman/data1/obsdata/7DT04/2024-11-16_gain2750\n",
      "python 7DT_Routine_1x1_gain2750.py 7DT04 /lyman/data1/obsdata/7DT04/2024-11-17_gain2750\n",
      "python 7DT_Routine_1x1_gain2750.py 7DT04 /lyman/data1/obsdata/7DT04/2024-11-27_gain2750\n",
      "python 7DT_Routine_1x1_gain2750.py 7DT04 /lyman/data1/obsdata/7DT04/2024-11-28_gain2750\n",
      "python 7DT_Routine_1x1_gain2750.py 7DT04 /lyman/data1/obsdata/7DT04/2024-11-29_gain2750\n",
      "python 7DT_Routine_1x1_gain2750.py 7DT05 /lyman/data1/obsdata/7DT05/2024-11-11_gain2750\n",
      "python 7DT_Routine_1x1_gain2750.py 7DT05 /lyman/data1/obsdata/7DT05/2024-11-12_gain2750\n",
      "python 7DT_Routine_1x1_gain2750.py 7DT05 /lyman/data1/obsdata/7DT05/2024-11-13_gain2750\n",
      "python 7DT_Routine_1x1_gain2750.py 7DT05 /lyman/data1/obsdata/7DT05/2024-11-14_gain2750\n",
      "python 7DT_Routine_1x1_gain2750.py 7DT05 /lyman/data1/obsdata/7DT05/2024-11-15_gain2750\n",
      "python 7DT_Routine_1x1_gain2750.py 7DT05 /lyman/data1/obsdata/7DT05/2024-11-17_gain2750\n",
      "python 7DT_Routine_1x1_gain2750.py 7DT05 /lyman/data1/obsdata/7DT05/2024-11-27_gain2750\n",
      "python 7DT_Routine_1x1_gain2750.py 7DT05 /lyman/data1/obsdata/7DT05/2024-11-28_gain2750\n",
      "python 7DT_Routine_1x1_gain2750.py 7DT05 /lyman/data1/obsdata/7DT05/2024-11-29_gain2750\n",
      "python 7DT_Routine_1x1_gain2750.py 7DT07 /lyman/data1/obsdata/7DT07/2024-11-11_gain2750\n",
      "python 7DT_Routine_1x1_gain2750.py 7DT07 /lyman/data1/obsdata/7DT07/2024-11-12_gain2750\n",
      "python 7DT_Routine_1x1_gain2750.py 7DT07 /lyman/data1/obsdata/7DT07/2024-11-13_gain2750\n",
      "python 7DT_Routine_1x1_gain2750.py 7DT07 /lyman/data1/obsdata/7DT07/2024-11-14_gain2750\n",
      "python 7DT_Routine_1x1_gain2750.py 7DT07 /lyman/data1/obsdata/7DT07/2024-11-15_gain2750\n",
      "python 7DT_Routine_1x1_gain2750.py 7DT07 /lyman/data1/obsdata/7DT07/2024-11-17_gain2750\n",
      "python 7DT_Routine_1x1_gain2750.py 7DT07 /lyman/data1/obsdata/7DT07/2024-11-27_gain2750\n",
      "python 7DT_Routine_1x1_gain2750.py 7DT07 /lyman/data1/obsdata/7DT07/2024-11-28_gain2750\n",
      "python 7DT_Routine_1x1_gain2750.py 7DT07 /lyman/data1/obsdata/7DT07/2024-11-29_gain2750\n",
      "python 7DT_Routine_1x1_gain2750.py 7DT08 /lyman/data1/obsdata/7DT08/2024-11-11_gain2750\n",
      "python 7DT_Routine_1x1_gain2750.py 7DT08 /lyman/data1/obsdata/7DT08/2024-11-12_gain2750\n",
      "python 7DT_Routine_1x1_gain2750.py 7DT08 /lyman/data1/obsdata/7DT08/2024-11-13_gain2750\n",
      "python 7DT_Routine_1x1_gain2750.py 7DT08 /lyman/data1/obsdata/7DT08/2024-11-14_gain2750\n",
      "python 7DT_Routine_1x1_gain2750.py 7DT08 /lyman/data1/obsdata/7DT08/2024-11-15_gain2750\n",
      "python 7DT_Routine_1x1_gain2750.py 7DT08 /lyman/data1/obsdata/7DT08/2024-11-16_gain2750\n",
      "python 7DT_Routine_1x1_gain2750.py 7DT08 /lyman/data1/obsdata/7DT08/2024-11-17_gain2750\n",
      "python 7DT_Routine_1x1_gain2750.py 7DT08 /lyman/data1/obsdata/7DT08/2024-11-27_gain2750\n",
      "python 7DT_Routine_1x1_gain2750.py 7DT08 /lyman/data1/obsdata/7DT08/2024-11-28_gain2750\n",
      "python 7DT_Routine_1x1_gain2750.py 7DT08 /lyman/data1/obsdata/7DT08/2024-11-29_gain2750\n",
      "python 7DT_Routine_1x1_gain2750.py 7DT09 /lyman/data1/obsdata/7DT09/2024-11-11_gain2750\n",
      "python 7DT_Routine_1x1_gain2750.py 7DT09 /lyman/data1/obsdata/7DT09/2024-11-12_gain2750\n",
      "python 7DT_Routine_1x1_gain2750.py 7DT09 /lyman/data1/obsdata/7DT09/2024-11-13_gain2750\n",
      "python 7DT_Routine_1x1_gain2750.py 7DT09 /lyman/data1/obsdata/7DT09/2024-11-14_gain2750\n",
      "python 7DT_Routine_1x1_gain2750.py 7DT09 /lyman/data1/obsdata/7DT09/2024-11-15_gain2750\n",
      "python 7DT_Routine_1x1_gain2750.py 7DT09 /lyman/data1/obsdata/7DT09/2024-11-17_gain2750\n",
      "python 7DT_Routine_1x1_gain2750.py 7DT09 /lyman/data1/obsdata/7DT09/2024-11-27_gain2750\n",
      "python 7DT_Routine_1x1_gain2750.py 7DT09 /lyman/data1/obsdata/7DT09/2024-11-28_gain2750\n",
      "python 7DT_Routine_1x1_gain2750.py 7DT09 /lyman/data1/obsdata/7DT09/2024-11-29_gain2750\n",
      "python 7DT_Routine_1x1_gain2750.py 7DT10 /lyman/data1/obsdata/7DT10/2024-11-11_gain2750\n",
      "python 7DT_Routine_1x1_gain2750.py 7DT10 /lyman/data1/obsdata/7DT10/2024-11-12_gain2750\n",
      "python 7DT_Routine_1x1_gain2750.py 7DT10 /lyman/data1/obsdata/7DT10/2024-11-13_gain2750\n",
      "python 7DT_Routine_1x1_gain2750.py 7DT10 /lyman/data1/obsdata/7DT10/2024-11-14_gain2750\n",
      "python 7DT_Routine_1x1_gain2750.py 7DT10 /lyman/data1/obsdata/7DT10/2024-11-15_gain2750\n",
      "python 7DT_Routine_1x1_gain2750.py 7DT10 /lyman/data1/obsdata/7DT10/2024-11-17_gain2750\n",
      "python 7DT_Routine_1x1_gain2750.py 7DT10 /lyman/data1/obsdata/7DT10/2024-11-27_gain2750\n",
      "python 7DT_Routine_1x1_gain2750.py 7DT10 /lyman/data1/obsdata/7DT10/2024-11-28_gain2750\n",
      "python 7DT_Routine_1x1_gain2750.py 7DT10 /lyman/data1/obsdata/7DT10/2024-11-29_gain2750\n",
      "python 7DT_Routine_1x1_gain2750.py 7DT11 /lyman/data1/obsdata/7DT11/2024-11-11_gain2750\n",
      "python 7DT_Routine_1x1_gain2750.py 7DT11 /lyman/data1/obsdata/7DT11/2024-11-12_gain2750\n",
      "python 7DT_Routine_1x1_gain2750.py 7DT11 /lyman/data1/obsdata/7DT11/2024-11-13_gain2750\n",
      "python 7DT_Routine_1x1_gain2750.py 7DT11 /lyman/data1/obsdata/7DT11/2024-11-14_gain2750\n",
      "python 7DT_Routine_1x1_gain2750.py 7DT11 /lyman/data1/obsdata/7DT11/2024-11-15_gain2750\n",
      "python 7DT_Routine_1x1_gain2750.py 7DT11 /lyman/data1/obsdata/7DT11/2024-11-17_gain2750\n",
      "python 7DT_Routine_1x1_gain2750.py 7DT11 /lyman/data1/obsdata/7DT11/2024-11-27_gain2750\n",
      "python 7DT_Routine_1x1_gain2750.py 7DT11 /lyman/data1/obsdata/7DT11/2024-11-28_gain2750\n",
      "python 7DT_Routine_1x1_gain2750.py 7DT11 /lyman/data1/obsdata/7DT11/2024-11-29_gain2750\n",
      "python 7DT_Routine_1x1_gain2750.py 7DT12 /lyman/data1/obsdata/7DT12/2024-11-14_gain2750\n",
      "python 7DT_Routine_1x1_gain2750.py 7DT12 /lyman/data1/obsdata/7DT12/2024-11-15_gain2750\n",
      "python 7DT_Routine_1x1_gain2750.py 7DT12 /lyman/data1/obsdata/7DT12/2024-11-17_gain2750\n",
      "python 7DT_Routine_1x1_gain2750.py 7DT12 /lyman/data1/obsdata/7DT12/2024-11-27_gain2750\n",
      "python 7DT_Routine_1x1_gain2750.py 7DT12 /lyman/data1/obsdata/7DT12/2024-11-28_gain2750\n",
      "python 7DT_Routine_1x1_gain2750.py 7DT12 /lyman/data1/obsdata/7DT12/2024-11-29_gain2750\n",
      "python 7DT_Routine_1x1_gain2750.py 7DT13 /lyman/data1/obsdata/7DT13/2024-11-11_gain2750\n",
      "python 7DT_Routine_1x1_gain2750.py 7DT13 /lyman/data1/obsdata/7DT13/2024-11-12_gain2750\n",
      "python 7DT_Routine_1x1_gain2750.py 7DT13 /lyman/data1/obsdata/7DT13/2024-11-13_gain2750\n",
      "python 7DT_Routine_1x1_gain2750.py 7DT13 /lyman/data1/obsdata/7DT13/2024-11-14_gain2750\n",
      "python 7DT_Routine_1x1_gain2750.py 7DT13 /lyman/data1/obsdata/7DT13/2024-11-15_gain2750\n",
      "python 7DT_Routine_1x1_gain2750.py 7DT13 /lyman/data1/obsdata/7DT13/2024-11-16_gain2750\n",
      "python 7DT_Routine_1x1_gain2750.py 7DT13 /lyman/data1/obsdata/7DT13/2024-11-17_gain2750\n",
      "python 7DT_Routine_1x1_gain2750.py 7DT13 /lyman/data1/obsdata/7DT13/2024-11-27_gain2750\n",
      "python 7DT_Routine_1x1_gain2750.py 7DT13 /lyman/data1/obsdata/7DT13/2024-11-28_gain2750\n",
      "python 7DT_Routine_1x1_gain2750.py 7DT13 /lyman/data1/obsdata/7DT13/2024-11-29_gain2750\n",
      "python 7DT_Routine_1x1_gain2750.py 7DT14 /lyman/data1/obsdata/7DT14/2024-11-11_gain2750\n",
      "python 7DT_Routine_1x1_gain2750.py 7DT14 /lyman/data1/obsdata/7DT14/2024-11-12_gain2750\n",
      "python 7DT_Routine_1x1_gain2750.py 7DT14 /lyman/data1/obsdata/7DT14/2024-11-13_gain2750\n",
      "python 7DT_Routine_1x1_gain2750.py 7DT14 /lyman/data1/obsdata/7DT14/2024-11-17_gain2750\n",
      "python 7DT_Routine_1x1_gain2750.py 7DT14 /lyman/data1/obsdata/7DT14/2024-11-27_gain2750\n",
      "python 7DT_Routine_1x1_gain2750.py 7DT14 /lyman/data1/obsdata/7DT14/2024-11-28_gain2750\n",
      "python 7DT_Routine_1x1_gain2750.py 7DT14 /lyman/data1/obsdata/7DT14/2024-11-29_gain2750\n",
      "python 7DT_Routine_1x1_gain2750.py 7DT15 /lyman/data1/obsdata/7DT15/2024-11-14_gain2750\n",
      "python 7DT_Routine_1x1_gain2750.py 7DT15 /lyman/data1/obsdata/7DT15/2024-11-15_gain2750\n",
      "python 7DT_Routine_1x1_gain2750.py 7DT15 /lyman/data1/obsdata/7DT15/2024-11-17_gain2750\n",
      "python 7DT_Routine_1x1_gain2750.py 7DT15 /lyman/data1/obsdata/7DT15/2024-11-27_gain2750\n",
      "python 7DT_Routine_1x1_gain2750.py 7DT15 /lyman/data1/obsdata/7DT15/2024-11-28_gain2750\n",
      "python 7DT_Routine_1x1_gain2750.py 7DT15 /lyman/data1/obsdata/7DT15/2024-11-29_gain2750\n"
     ]
    }
   ],
   "source": [
    "# Print out the commands to be executed\n",
    "for cc, command in enumerate(output_commands):\n",
    "    # if ('7DT01' not in command) and ('7DT13' not in command) and ('7DT14' not in command) and ('7DT15' not in command):\n",
    "\tprint(command)"
   ]
  }
 ],
 "metadata": {
  "kernelspec": {
   "display_name": "base",
   "language": "python",
   "name": "python3"
  },
  "language_info": {
   "codemirror_mode": {
    "name": "ipython",
    "version": 3
   },
   "file_extension": ".py",
   "mimetype": "text/x-python",
   "name": "python",
   "nbconvert_exporter": "python",
   "pygments_lexer": "ipython3",
   "version": "3.11.4"
  }
 },
 "nbformat": 4,
 "nbformat_minor": 2
}
