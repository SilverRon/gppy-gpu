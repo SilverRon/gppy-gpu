{
 "cells": [
  {
   "cell_type": "code",
   "execution_count": 1,
   "metadata": {},
   "outputs": [],
   "source": [
    "# Python Library\n",
    "import os\n",
    "import glob\n",
    "import sys\n",
    "import numpy as np\n",
    "\n",
    "from astropy.coordinates import SkyCoord\n",
    "from astropy.time import Time\n",
    "from astropy import units as u\n",
    "from astropy.io import fits\n",
    "from astropy.table import Table\n",
    "from astropy.table import vstack\n",
    "from astropy.table import hstack\n",
    "import warnings\n",
    "warnings.filterwarnings(\"ignore\")\n",
    "\n",
    "# Plot presetting\n",
    "import matplotlib.pyplot as plt\n",
    "import matplotlib as mpl\n",
    "\n",
    "# Jupyter Setting\n",
    "mpl.rcParams[\"axes.titlesize\"] = 14\n",
    "mpl.rcParams[\"axes.labelsize\"] = 20\n",
    "plt.rcParams['savefig.dpi'] = 500\n",
    "plt.rc('font', family='serif')"
   ]
  },
  {
   "cell_type": "code",
   "execution_count": 2,
   "metadata": {},
   "outputs": [],
   "source": [
    "def split_into_chunks(lst, size):\n",
    "    # 'lst'를 'size'개 단위로 나누어서 돌려주는 함수\n",
    "    chunks = []\n",
    "    for i in range(0, len(lst), size):\n",
    "        chunks.append(lst[i : i + size])\n",
    "    return chunks"
   ]
  },
  {
   "cell_type": "code",
   "execution_count": 3,
   "metadata": {},
   "outputs": [],
   "source": [
    "date = \"20250114\""
   ]
  },
  {
   "cell_type": "code",
   "execution_count": 4,
   "metadata": {},
   "outputs": [],
   "source": [
    "path_proc_g2750 = \"/lyman/data1/processed_1x1_gain2750\"\n",
    "path_proc_g0 = \"/lyman/data1/processed\"\n",
    "path_save = f\"/lyman/data1/factory/phot_test/{date}\"\n",
    "if not os.path.exists(path_save):\n",
    "\tos.makedirs(path_save)"
   ]
  },
  {
   "cell_type": "code",
   "execution_count": 5,
   "metadata": {},
   "outputs": [
    {
     "name": "stdout",
     "output_type": "stream",
     "text": [
      "Number of images with gain 2750: 93,516\n",
      "Number of images with gain 0   : 10,391\n",
      "Total number of images         : 103,907\n"
     ]
    }
   ],
   "source": [
    "stacked_images_g2750 = sorted(glob.glob(f\"{path_proc_g2750}/*/*/*/calib*com.fits\"))\n",
    "stacked_images_g0 = sorted(glob.glob(f\"{path_proc_g0}/*/*/*/calib*com.fits\"))\n",
    "\n",
    "stacked_images = stacked_images_g2750 + stacked_images_g0\n",
    "\n",
    "print(f\"Number of images with gain 2750: {len(stacked_images_g2750):,}\")\n",
    "print(f\"Number of images with gain 0   : {len(stacked_images_g0):,}\")\n",
    "print(f\"Total number of images         : {len(stacked_images):,}\")"
   ]
  },
  {
   "cell_type": "code",
   "execution_count": 6,
   "metadata": {},
   "outputs": [],
   "source": [
    "n_batch = 5000"
   ]
  },
  {
   "cell_type": "code",
   "execution_count": 7,
   "metadata": {},
   "outputs": [
    {
     "name": "stdout",
     "output_type": "stream",
     "text": [
      "21 chunks are created.\n"
     ]
    }
   ],
   "source": [
    "stacked_images_chunks = split_into_chunks(stacked_images, n_batch)  # 1000개씩 묶어서 나누기\n",
    "print(f\"{len(stacked_images_chunks)} chunks are created.\")"
   ]
  },
  {
   "cell_type": "code",
   "execution_count": 8,
   "metadata": {},
   "outputs": [
    {
     "data": {
      "text/plain": [
       "'/lyman/data1/factory/phot_test/20250114'"
      ]
     },
     "execution_count": 8,
     "metadata": {},
     "output_type": "execute_result"
    }
   ],
   "source": [
    "path_save"
   ]
  },
  {
   "cell_type": "code",
   "execution_count": 10,
   "metadata": {},
   "outputs": [
    {
     "name": "stdout",
     "output_type": "stream",
     "text": [
      "python ~/gppy/src/phot/gregoryphot_7DT_NxN.py /lyman/data1/factory/phot_test/20250114/00 /lyman/data1/factory/phot_test/20250114/00/stacked_images_chunks_00.txt\n",
      "python ~/gppy/src/phot/gregoryphot_7DT_NxN.py /lyman/data1/factory/phot_test/20250114/01 /lyman/data1/factory/phot_test/20250114/01/stacked_images_chunks_01.txt\n",
      "python ~/gppy/src/phot/gregoryphot_7DT_NxN.py /lyman/data1/factory/phot_test/20250114/02 /lyman/data1/factory/phot_test/20250114/02/stacked_images_chunks_02.txt\n",
      "python ~/gppy/src/phot/gregoryphot_7DT_NxN.py /lyman/data1/factory/phot_test/20250114/03 /lyman/data1/factory/phot_test/20250114/03/stacked_images_chunks_03.txt\n",
      "python ~/gppy/src/phot/gregoryphot_7DT_NxN.py /lyman/data1/factory/phot_test/20250114/04 /lyman/data1/factory/phot_test/20250114/04/stacked_images_chunks_04.txt\n",
      "python ~/gppy/src/phot/gregoryphot_7DT_NxN.py /lyman/data1/factory/phot_test/20250114/05 /lyman/data1/factory/phot_test/20250114/05/stacked_images_chunks_05.txt\n",
      "python ~/gppy/src/phot/gregoryphot_7DT_NxN.py /lyman/data1/factory/phot_test/20250114/06 /lyman/data1/factory/phot_test/20250114/06/stacked_images_chunks_06.txt\n",
      "python ~/gppy/src/phot/gregoryphot_7DT_NxN.py /lyman/data1/factory/phot_test/20250114/07 /lyman/data1/factory/phot_test/20250114/07/stacked_images_chunks_07.txt\n",
      "python ~/gppy/src/phot/gregoryphot_7DT_NxN.py /lyman/data1/factory/phot_test/20250114/08 /lyman/data1/factory/phot_test/20250114/08/stacked_images_chunks_08.txt\n",
      "python ~/gppy/src/phot/gregoryphot_7DT_NxN.py /lyman/data1/factory/phot_test/20250114/09 /lyman/data1/factory/phot_test/20250114/09/stacked_images_chunks_09.txt\n",
      "python ~/gppy/src/phot/gregoryphot_7DT_NxN.py /lyman/data1/factory/phot_test/20250114/10 /lyman/data1/factory/phot_test/20250114/10/stacked_images_chunks_10.txt\n",
      "python ~/gppy/src/phot/gregoryphot_7DT_NxN.py /lyman/data1/factory/phot_test/20250114/11 /lyman/data1/factory/phot_test/20250114/11/stacked_images_chunks_11.txt\n",
      "python ~/gppy/src/phot/gregoryphot_7DT_NxN.py /lyman/data1/factory/phot_test/20250114/12 /lyman/data1/factory/phot_test/20250114/12/stacked_images_chunks_12.txt\n",
      "python ~/gppy/src/phot/gregoryphot_7DT_NxN.py /lyman/data1/factory/phot_test/20250114/13 /lyman/data1/factory/phot_test/20250114/13/stacked_images_chunks_13.txt\n",
      "python ~/gppy/src/phot/gregoryphot_7DT_NxN.py /lyman/data1/factory/phot_test/20250114/14 /lyman/data1/factory/phot_test/20250114/14/stacked_images_chunks_14.txt\n",
      "python ~/gppy/src/phot/gregoryphot_7DT_NxN.py /lyman/data1/factory/phot_test/20250114/15 /lyman/data1/factory/phot_test/20250114/15/stacked_images_chunks_15.txt\n",
      "python ~/gppy/src/phot/gregoryphot_7DT_NxN.py /lyman/data1/factory/phot_test/20250114/16 /lyman/data1/factory/phot_test/20250114/16/stacked_images_chunks_16.txt\n",
      "python ~/gppy/src/phot/gregoryphot_7DT_NxN.py /lyman/data1/factory/phot_test/20250114/17 /lyman/data1/factory/phot_test/20250114/17/stacked_images_chunks_17.txt\n",
      "python ~/gppy/src/phot/gregoryphot_7DT_NxN.py /lyman/data1/factory/phot_test/20250114/18 /lyman/data1/factory/phot_test/20250114/18/stacked_images_chunks_18.txt\n",
      "python ~/gppy/src/phot/gregoryphot_7DT_NxN.py /lyman/data1/factory/phot_test/20250114/19 /lyman/data1/factory/phot_test/20250114/19/stacked_images_chunks_19.txt\n",
      "python ~/gppy/src/phot/gregoryphot_7DT_NxN.py /lyman/data1/factory/phot_test/20250114/20 /lyman/data1/factory/phot_test/20250114/20/stacked_images_chunks_20.txt\n"
     ]
    }
   ],
   "source": [
    "for cc, chunk in enumerate(stacked_images_chunks):\n",
    "\tpath_sub_save = f\"{path_save}/{cc:0>2}\"\n",
    "\timage_list_file = f\"{path_sub_save}/stacked_images_chunks_{cc:0>2}.txt\"\n",
    "\t#\tNew directory\n",
    "\tif not os.path.exists(f\"{path_sub_save}\"):\n",
    "\t\tos.makedirs(f\"{path_sub_save}\")\n",
    "\t#\tWrite image list\n",
    "\twith open(image_list_file, \"w\") as f:\n",
    "\t\tfor image in chunk:\n",
    "\t\t\tf.write(f\"{image}\\n\")\n",
    "\n",
    "\tcpcom = f\"cp /lyman/data1/factory/phot_test/gphot.config {path_sub_save}\"\n",
    "\t# print(cpcom)\n",
    "\tos.system(cpcom)\n",
    "\n",
    "\t#\tPhotometry Command\n",
    "\tphotcom = f\"python ~/gppy/src/phot/gregoryphot_7DT_NxN.py {path_sub_save} {image_list_file}\"\n",
    "\tprint(photcom)"
   ]
  }
 ],
 "metadata": {
  "kernelspec": {
   "display_name": "rapids-24.02",
   "language": "python",
   "name": "python3"
  },
  "language_info": {
   "codemirror_mode": {
    "name": "ipython",
    "version": 3
   },
   "file_extension": ".py",
   "mimetype": "text/x-python",
   "name": "python",
   "nbconvert_exporter": "python",
   "pygments_lexer": "ipython3",
   "version": "3.10.13"
  }
 },
 "nbformat": 4,
 "nbformat_minor": 2
}
