{
 "cells": [
  {
   "cell_type": "code",
   "execution_count": 1,
   "metadata": {},
   "outputs": [],
   "source": [
    "import os\n",
    "import glob\n",
    "import numpy as np\n",
    "from astropy.table import Table\n",
    "from ccdproc import ImageFileCollection"
   ]
  },
  {
   "cell_type": "code",
   "execution_count": 2,
   "metadata": {},
   "outputs": [],
   "source": [
    "import matplotlib.pyplot as plt\n",
    "import matplotlib as mpl\n",
    "\n",
    "mpl.rcParams[\"axes.titlesize\"] = 14\n",
    "mpl.rcParams[\"axes.labelsize\"] = 20\n",
    "plt.rcParams[\"savefig.dpi\"] = 500\n",
    "plt.rc(\"font\", family=\"serif\")"
   ]
  },
  {
   "cell_type": "code",
   "execution_count": 3,
   "metadata": {},
   "outputs": [],
   "source": [
    "path_processed = \"/large_data/processed_1x1_gain2750\""
   ]
  },
  {
   "cell_type": "code",
   "execution_count": 10,
   "metadata": {},
   "outputs": [
    {
     "name": "stdout",
     "output_type": "stream",
     "text": [
      "75 columns selected\n"
     ]
    }
   ],
   "source": [
    "columns_to_pick = [\n",
    "    # \"file\", \"naxis\", \"naxis1\", \"naxis2\", \"mjd-obs\", \"ctype1\", \"cunit1\", \"crval1\", \n",
    "    \"file\", \"naxis\", \"naxis1\", \"naxis2\", \"ctype1\", \"cunit1\", \"crval1\", \n",
    "    \"crpix1\", \"cd1_1\", \"cd1_2\", \"ctype2\", \"cunit2\", \"crval2\", \"crpix2\", \"cd2_1\", \n",
    "    # \"cd2_2\", \"exptime\", \"gain\", \"saturate\", \"date\", \"object\", \"egain\", \"filter\", \n",
    "    \"cd2_2\", \"exptime\", \"gain\", \"date\", \"object\", \"egain\", \"filter\", \n",
    "    \"date-obs\", \"date-loc\", \"exposure\", \"centalt\", \"centaz\", \"airmass\", \"mjd\", \n",
    "    \"jd\", \"seeing\", \"peeing\", \"ellip\", \"elong\", \"skysig\", \"skyval\", \"refcat\", \n",
    "    \"maglow\", \"magup\", \"stdnumb\", \"auto\", \"aper\", \"aper_1\", \"aper_2\", \"aper_3\", \n",
    "    \"aper_4\", \"aper_5\", \"zp_auto\", \"ezp_auto\", \"ul3_auto\", \"ul5_auto\", \"zp_0\", \n",
    "    \"ezp_0\", \"ul3_0\", \"ul5_0\", \"zp_1\", \"ezp_1\", \"ul3_1\", \"ul5_1\", \"zp_2\", \"ezp_2\", \n",
    "    \"ul3_2\", \"ul5_2\", \"zp_3\", \"ezp_3\", \"ul3_3\", \"ul5_3\", \"zp_4\", \"ezp_4\", \"ul3_4\", \n",
    "    \"ul5_4\", \"zp_5\", \"ezp_5\", \"ul3_5\", \"ul5_5\",\n",
    "]\n",
    "print(f\"{len(columns_to_pick)} columns selected\")"
   ]
  },
  {
   "cell_type": "code",
   "execution_count": 5,
   "metadata": {},
   "outputs": [
    {
     "name": "stdout",
     "output_type": "stream",
     "text": [
      "9768 found\n"
     ]
    }
   ],
   "source": [
    "# images = sorted(glob.glob(f\"{path_processed}/*/*/*/calib*com.fits\"))\n",
    "images = sorted(glob.glob(f\"{path_processed}/*/*/*/calib*120.fits\"))\n",
    "print(f\"{len(images)} found\")"
   ]
  },
  {
   "cell_type": "code",
   "execution_count": 6,
   "metadata": {},
   "outputs": [
    {
     "ename": "KeyError",
     "evalue": "'mjd-obs'",
     "output_type": "error",
     "traceback": [
      "\u001b[0;31m---------------------------------------------------------------------------\u001b[0m",
      "\u001b[0;31mKeyError\u001b[0m                                  Traceback (most recent call last)",
      "Cell \u001b[0;32mIn[6], line 2\u001b[0m\n\u001b[1;32m      1\u001b[0m ic \u001b[38;5;241m=\u001b[39m ImageFileCollection(filenames\u001b[38;5;241m=\u001b[39mimages)\n\u001b[0;32m----> 2\u001b[0m table \u001b[38;5;241m=\u001b[39m ic\u001b[38;5;241m.\u001b[39msummary[\u001b[38;5;241m*\u001b[39mcolumns_to_pick]\n",
      "File \u001b[0;32m~/.local/lib/python3.11/site-packages/astropy/table/table.py:2079\u001b[0m, in \u001b[0;36mTable.__getitem__\u001b[0;34m(self, item)\u001b[0m\n\u001b[1;32m   2076\u001b[0m     \u001b[38;5;28;01mreturn\u001b[39;00m \u001b[38;5;28mself\u001b[39m\u001b[38;5;241m.\u001b[39mRow(\u001b[38;5;28mself\u001b[39m, item\u001b[38;5;241m.\u001b[39mitem())\n\u001b[1;32m   2077\u001b[0m \u001b[38;5;28;01melif\u001b[39;00m \u001b[38;5;28mself\u001b[39m\u001b[38;5;241m.\u001b[39m_is_list_or_tuple_of_str(item):\n\u001b[1;32m   2078\u001b[0m     out \u001b[38;5;241m=\u001b[39m \u001b[38;5;28mself\u001b[39m\u001b[38;5;241m.\u001b[39m\u001b[38;5;18m__class__\u001b[39m(\n\u001b[0;32m-> 2079\u001b[0m         [\u001b[38;5;28mself\u001b[39m[x] \u001b[38;5;28;01mfor\u001b[39;00m x \u001b[38;5;129;01min\u001b[39;00m item], copy_indices\u001b[38;5;241m=\u001b[39m\u001b[38;5;28mself\u001b[39m\u001b[38;5;241m.\u001b[39m_copy_indices\n\u001b[1;32m   2080\u001b[0m     )\n\u001b[1;32m   2081\u001b[0m     out\u001b[38;5;241m.\u001b[39m_groups \u001b[38;5;241m=\u001b[39m groups\u001b[38;5;241m.\u001b[39mTableGroups(\n\u001b[1;32m   2082\u001b[0m         out, indices\u001b[38;5;241m=\u001b[39m\u001b[38;5;28mself\u001b[39m\u001b[38;5;241m.\u001b[39mgroups\u001b[38;5;241m.\u001b[39m_indices, keys\u001b[38;5;241m=\u001b[39m\u001b[38;5;28mself\u001b[39m\u001b[38;5;241m.\u001b[39mgroups\u001b[38;5;241m.\u001b[39m_keys\n\u001b[1;32m   2083\u001b[0m     )\n\u001b[1;32m   2084\u001b[0m     out\u001b[38;5;241m.\u001b[39mmeta \u001b[38;5;241m=\u001b[39m \u001b[38;5;28mself\u001b[39m\u001b[38;5;241m.\u001b[39mmeta\u001b[38;5;241m.\u001b[39mcopy()  \u001b[38;5;66;03m# Shallow copy for meta\u001b[39;00m\n",
      "File \u001b[0;32m~/.local/lib/python3.11/site-packages/astropy/table/table.py:2079\u001b[0m, in \u001b[0;36m<listcomp>\u001b[0;34m(.0)\u001b[0m\n\u001b[1;32m   2076\u001b[0m     \u001b[38;5;28;01mreturn\u001b[39;00m \u001b[38;5;28mself\u001b[39m\u001b[38;5;241m.\u001b[39mRow(\u001b[38;5;28mself\u001b[39m, item\u001b[38;5;241m.\u001b[39mitem())\n\u001b[1;32m   2077\u001b[0m \u001b[38;5;28;01melif\u001b[39;00m \u001b[38;5;28mself\u001b[39m\u001b[38;5;241m.\u001b[39m_is_list_or_tuple_of_str(item):\n\u001b[1;32m   2078\u001b[0m     out \u001b[38;5;241m=\u001b[39m \u001b[38;5;28mself\u001b[39m\u001b[38;5;241m.\u001b[39m\u001b[38;5;18m__class__\u001b[39m(\n\u001b[0;32m-> 2079\u001b[0m         [\u001b[38;5;28mself\u001b[39m[x] \u001b[38;5;28;01mfor\u001b[39;00m x \u001b[38;5;129;01min\u001b[39;00m item], copy_indices\u001b[38;5;241m=\u001b[39m\u001b[38;5;28mself\u001b[39m\u001b[38;5;241m.\u001b[39m_copy_indices\n\u001b[1;32m   2080\u001b[0m     )\n\u001b[1;32m   2081\u001b[0m     out\u001b[38;5;241m.\u001b[39m_groups \u001b[38;5;241m=\u001b[39m groups\u001b[38;5;241m.\u001b[39mTableGroups(\n\u001b[1;32m   2082\u001b[0m         out, indices\u001b[38;5;241m=\u001b[39m\u001b[38;5;28mself\u001b[39m\u001b[38;5;241m.\u001b[39mgroups\u001b[38;5;241m.\u001b[39m_indices, keys\u001b[38;5;241m=\u001b[39m\u001b[38;5;28mself\u001b[39m\u001b[38;5;241m.\u001b[39mgroups\u001b[38;5;241m.\u001b[39m_keys\n\u001b[1;32m   2083\u001b[0m     )\n\u001b[1;32m   2084\u001b[0m     out\u001b[38;5;241m.\u001b[39mmeta \u001b[38;5;241m=\u001b[39m \u001b[38;5;28mself\u001b[39m\u001b[38;5;241m.\u001b[39mmeta\u001b[38;5;241m.\u001b[39mcopy()  \u001b[38;5;66;03m# Shallow copy for meta\u001b[39;00m\n",
      "File \u001b[0;32m~/.local/lib/python3.11/site-packages/astropy/table/table.py:2070\u001b[0m, in \u001b[0;36mTable.__getitem__\u001b[0;34m(self, item)\u001b[0m\n\u001b[1;32m   2068\u001b[0m \u001b[38;5;28;01mdef\u001b[39;00m \u001b[38;5;21m__getitem__\u001b[39m(\u001b[38;5;28mself\u001b[39m, item):\n\u001b[1;32m   2069\u001b[0m     \u001b[38;5;28;01mif\u001b[39;00m \u001b[38;5;28misinstance\u001b[39m(item, \u001b[38;5;28mstr\u001b[39m):\n\u001b[0;32m-> 2070\u001b[0m         \u001b[38;5;28;01mreturn\u001b[39;00m \u001b[38;5;28mself\u001b[39m\u001b[38;5;241m.\u001b[39mcolumns[item]\n\u001b[1;32m   2071\u001b[0m     \u001b[38;5;28;01melif\u001b[39;00m \u001b[38;5;28misinstance\u001b[39m(item, (\u001b[38;5;28mint\u001b[39m, np\u001b[38;5;241m.\u001b[39minteger)):\n\u001b[1;32m   2072\u001b[0m         \u001b[38;5;28;01mreturn\u001b[39;00m \u001b[38;5;28mself\u001b[39m\u001b[38;5;241m.\u001b[39mRow(\u001b[38;5;28mself\u001b[39m, item)\n",
      "File \u001b[0;32m~/.local/lib/python3.11/site-packages/astropy/table/table.py:263\u001b[0m, in \u001b[0;36mTableColumns.__getitem__\u001b[0;34m(self, item)\u001b[0m\n\u001b[1;32m    253\u001b[0m \u001b[38;5;250m\u001b[39m\u001b[38;5;124;03m\"\"\"Get items from a TableColumns object.\u001b[39;00m\n\u001b[1;32m    254\u001b[0m \u001b[38;5;124;03m::\u001b[39;00m\n\u001b[1;32m    255\u001b[0m \n\u001b[0;32m   (...)\u001b[0m\n\u001b[1;32m    260\u001b[0m \u001b[38;5;124;03m  tc[1:3] # <TableColumns names=('b', 'c')>\u001b[39;00m\n\u001b[1;32m    261\u001b[0m \u001b[38;5;124;03m\"\"\"\u001b[39;00m\n\u001b[1;32m    262\u001b[0m \u001b[38;5;28;01mif\u001b[39;00m \u001b[38;5;28misinstance\u001b[39m(item, \u001b[38;5;28mstr\u001b[39m):\n\u001b[0;32m--> 263\u001b[0m     \u001b[38;5;28;01mreturn\u001b[39;00m OrderedDict\u001b[38;5;241m.\u001b[39m\u001b[38;5;21m__getitem__\u001b[39m(\u001b[38;5;28mself\u001b[39m, item)\n\u001b[1;32m    264\u001b[0m \u001b[38;5;28;01melif\u001b[39;00m \u001b[38;5;28misinstance\u001b[39m(item, (\u001b[38;5;28mint\u001b[39m, np\u001b[38;5;241m.\u001b[39minteger)):\n\u001b[1;32m    265\u001b[0m     \u001b[38;5;28;01mreturn\u001b[39;00m \u001b[38;5;28mlist\u001b[39m(\u001b[38;5;28mself\u001b[39m\u001b[38;5;241m.\u001b[39mvalues())[item]\n",
      "\u001b[0;31mKeyError\u001b[0m: 'mjd-obs'"
     ]
    }
   ],
   "source": [
    "ic = ImageFileCollection(filenames=images)\n"
   ]
  },
  {
   "cell_type": "code",
   "execution_count": 11,
   "metadata": {},
   "outputs": [],
   "source": [
    "table = ic.summary[*columns_to_pick]"
   ]
  },
  {
   "cell_type": "code",
   "execution_count": 12,
   "metadata": {},
   "outputs": [],
   "source": [
    "bfilters = ['u', 'g', 'r', 'i', 'z']\n",
    "blamarr = np.array([355.1, 468.6, 616.5, 748.1, 893.1])\n",
    "\n",
    "mfilters = [f\"m{val:g}\" for val in np.arange(400, 875+25, 25)]\n",
    "mlamarr = np.arange(400, 875+25, 25)\n",
    "\n",
    "wfilters = ['m375w', 'm425w']\n",
    "wlamarr = np.array([375, 425])"
   ]
  },
  {
   "cell_type": "code",
   "execution_count": 13,
   "metadata": {},
   "outputs": [
    {
     "name": "stdout",
     "output_type": "stream",
     "text": [
      "Broad-band  : 2494\n",
      "Medium-band : 7270\n",
      "wMedium-band: 4\n"
     ]
    }
   ],
   "source": [
    "btbl = table[[row['filter'] in bfilters for row in table]]\n",
    "mtbl = table[[row['filter'] in mfilters for row in table]]\n",
    "wtbl = table[[row['filter'] in wfilters for row in table]]\n",
    "\n",
    "print(f\"Broad-band  : {len(btbl)}\")\n",
    "print(f\"Medium-band : {len(mtbl)}\")\n",
    "print(f\"wMedium-band: {len(wtbl)}\")"
   ]
  },
  {
   "cell_type": "code",
   "execution_count": 14,
   "metadata": {},
   "outputs": [],
   "source": [
    "path_save = '.'"
   ]
  },
  {
   "cell_type": "code",
   "execution_count": 15,
   "metadata": {},
   "outputs": [],
   "source": [
    "btbl.write(f\"{path_save}/broad_band.csv\", format='csv')\n",
    "mtbl.write(f\"{path_save}/med_band.csv\", format='csv')\n",
    "wtbl.write(f\"{path_save}/wmed_band.csv\", format='csv')"
   ]
  },
  {
   "cell_type": "code",
   "execution_count": null,
   "metadata": {},
   "outputs": [],
   "source": []
  }
 ],
 "metadata": {
  "kernelspec": {
   "display_name": "base",
   "language": "python",
   "name": "python3"
  },
  "language_info": {
   "codemirror_mode": {
    "name": "ipython",
    "version": 3
   },
   "file_extension": ".py",
   "mimetype": "text/x-python",
   "name": "python",
   "nbconvert_exporter": "python",
   "pygments_lexer": "ipython3",
   "version": "3.11.4"
  }
 },
 "nbformat": 4,
 "nbformat_minor": 2
}
