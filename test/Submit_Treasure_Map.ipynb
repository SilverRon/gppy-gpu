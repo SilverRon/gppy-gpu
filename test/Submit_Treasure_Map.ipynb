{
 "cells": [
  {
   "cell_type": "code",
   "execution_count": 1,
   "metadata": {},
   "outputs": [],
   "source": [
    "import argparse\n",
    "import requests\n",
    "import urllib.parse\n",
    "import os, sys, json\n",
    "from astropy.table import Table"
   ]
  },
  {
   "cell_type": "code",
   "execution_count": 2,
   "metadata": {},
   "outputs": [],
   "source": [
    "#set your api_token here:\n",
    "def register_pts(gwid, infile, verbose=False):\n",
    "    \"\"\"\n",
    "\n",
    "    7DT=94, KMTNet=95\n",
    "\n",
    "    ra,dec,date-obs,filter,ul5_1,delt\n",
    "    114.958,-32.264,2024-04-23T03:00:50.552,r,19.335,0.226\n",
    "\n",
    "    \"\"\"\n",
    "    BASE = \"https://treasuremap.space/api/v1\"\n",
    "    TARGET = \"pointings\"\n",
    "    API_TOKEN = \"WbNOm1dQr5cQvYRrpOA6EzULE2PdFjsmv59vJw\" #-your-verified-account-api-token-\"\n",
    "\n",
    "    # Read the FIT file into a Table\n",
    "    table = Table.read(infile)\n",
    "    graceid = gwid\n",
    "\n",
    "    # Loop over the rows in the Table\n",
    "    for row in table:\n",
    "        # Extract the data from the row\n",
    "        ra = row['ra']\n",
    "        dec = row['dec']\n",
    "        time = row['date-obs'] # str(row['date-obs']) + 'T' + str(row['date-time'])\n",
    "        depth = row['ul5_1']\n",
    "        filte = row['filter']\n",
    "        #t_m_t0 = row['t_m_to']\n",
    "        #pos_angle = row['pos_angle']\n",
    "\n",
    "\n",
    "        # Create the JSON data\n",
    "        json_data = {\n",
    "            \"api_token\":API_TOKEN,\n",
    "            \"graceid\":graceid,\n",
    "            \"pointings\":[\n",
    "            {\n",
    "                \"position\":\"POINT({} {})\".format(str(ra),str(dec)),\n",
    "                \"band\":str(filte),\n",
    "                \"instrumentid\":\"94\",\n",
    "                \"depth\":str(depth),\n",
    "                \"depth_unit\":\"ab_mag\",\n",
    "                \"time\":str(time),\n",
    "                \"pos_angle\":\"0.0\",\n",
    "                \"status\":\"completed\",\n",
    "            },\n",
    "            ]\n",
    "        }\n",
    "        print(json_data)\n",
    "\n",
    "        # Send a POST request to the API endpoint\n",
    "        url = \"{}/{}\".format(BASE, TARGET)\n",
    "        r = requests.post(url=url, json=json_data)\n",
    "        print(r.text)\n",
    "        #sys.exit() "
   ]
  },
  {
   "cell_type": "code",
   "execution_count": 3,
   "metadata": {},
   "outputs": [],
   "source": [
    "must_have_keys = ['ra', 'dec', 'date-obs', 'ul5_1', 'filter']"
   ]
  },
  {
   "cell_type": "code",
   "execution_count": 4,
   "metadata": {},
   "outputs": [],
   "source": [
    "gwid = input(f\"GW ID (S250206dm):\")\n",
    "infile = input(f'Path to Table:')"
   ]
  },
  {
   "cell_type": "code",
   "execution_count": 6,
   "metadata": {},
   "outputs": [
    {
     "data": {
      "text/html": [
       "<div><i>Table length=1545</i>\n",
       "<table id=\"table140356183274192\" class=\"table-striped table-bordered table-condensed\">\n",
       "<thead><tr><th>image</th><th>ra</th><th>dec</th><th>date-obs</th><th>ul5_1</th><th>filter</th></tr></thead>\n",
       "<thead><tr><th>str49</th><th>str15</th><th>str16</th><th>str19</th><th>float64</th><th>str1</th></tr></thead>\n",
       "<tr><td>calib_7DT07_T17600_20250207_012807_g_300.com.fits</td><td>09:38:03.840000</td><td>-04:14:42.000000</td><td>2025-02-07T01:28:07</td><td>19.646</td><td>g</td></tr>\n",
       "<tr><td>calib_7DT13_T23699_20250207_012811_g_300.com.fits</td><td>09:01:59.520000</td><td>+14:26:02.400000</td><td>2025-02-07T01:28:11</td><td>19.845</td><td>g</td></tr>\n",
       "<tr><td>calib_7DT14_T17321_20250207_012812_g_300.com.fits</td><td>09:38:03.816000</td><td>-05:05:38.400000</td><td>2025-02-07T01:28:12</td><td>20.014</td><td>g</td></tr>\n",
       "<tr><td>calib_7DT11_T23428_20250207_012813_g_300.com.fits</td><td>09:05:17.784000</td><td>+13:35:06.000000</td><td>2025-02-07T01:28:13</td><td>19.588</td><td>g</td></tr>\n",
       "<tr><td>calib_7DT12_T22608_20250207_012814_g_300.com.fits</td><td>09:09:49.200000</td><td>+11:02:16.800000</td><td>2025-02-07T01:28:14</td><td>19.69</td><td>g</td></tr>\n",
       "<tr><td>calib_7DT15_T23969_20250207_012814_g_300.com.fits</td><td>08:58:40.080000</td><td>+15:16:58.800000</td><td>2025-02-07T01:28:14</td><td>19.77</td><td>g</td></tr>\n",
       "<tr><td>calib_7DT09_T21226_20250207_012815_g_300.com.fits</td><td>09:14:14.640000</td><td>+06:47:31.200000</td><td>2025-02-07T01:28:15</td><td>19.981</td><td>g</td></tr>\n",
       "<tr><td>calib_7DT08_T21504_20250207_012817_g_300.com.fits</td><td>09:16:14.640000</td><td>+07:38:31.200000</td><td>2025-02-07T01:28:17</td><td>20.053</td><td>g</td></tr>\n",
       "<tr><td>calib_7DT04_T21781_20250207_012819_g_300.com.fits</td><td>09:16:14.664000</td><td>+08:29:27.600000</td><td>2025-02-07T01:28:19</td><td>19.845</td><td>g</td></tr>\n",
       "<tr><td>calib_7DT03_T20949_20250207_012820_g_300.com.fits</td><td>09:19:25.440000</td><td>+05:56:34.800000</td><td>2025-02-07T01:28:20</td><td>19.395</td><td>g</td></tr>\n",
       "<tr><td>...</td><td>...</td><td>...</td><td>...</td><td>...</td><td>...</td></tr>\n",
       "<tr><td>calib_7DT09_T01692_20250208_064221_r_300.com.fits</td><td>16:54:15.600000</td><td>-66:13:33.600000</td><td>2025-02-08T06:42:21</td><td>19.777</td><td>r</td></tr>\n",
       "<tr><td>calib_7DT08_T01579_20250208_064244_r_300.com.fits</td><td>17:04:51.840000</td><td>-67:04:30.000000</td><td>2025-02-08T06:42:44</td><td>19.786</td><td>r</td></tr>\n",
       "<tr><td>calib_7DT12_T01366_20250208_064320_r_300.com.fits</td><td>17:42:31.440000</td><td>-68:46:26.400000</td><td>2025-02-08T06:43:20</td><td>19.75</td><td>r</td></tr>\n",
       "<tr><td>calib_7DT03_T01471_20250208_064424_r_300.com.fits</td><td>17:29:43.200000</td><td>-67:55:30.000000</td><td>2025-02-08T06:44:24</td><td>19.85</td><td>r</td></tr>\n",
       "<tr><td>calib_7DT10_T01693_20250208_064442_r_300.com.fits</td><td>17:06:47.016000</td><td>-66:13:33.600000</td><td>2025-02-08T06:44:42</td><td>19.602</td><td>r</td></tr>\n",
       "<tr><td>calib_7DT04_T01580_20250208_064729_r_300.com.fits</td><td>17:17:50.160000</td><td>-67:04:30.000000</td><td>2025-02-08T06:47:29</td><td>19.911</td><td>r</td></tr>\n",
       "<tr><td>calib_7DT15_T25351_20250208_084017_r_600.com.fits</td><td>12:59:59.976000</td><td>+19:31:41.880000</td><td>2025-02-08T08:40:17</td><td>21.223</td><td>r</td></tr>\n",
       "<tr><td>calib_7DT15_T25363_20250208_085357_r_600.com.fits</td><td>14:05:27.360000</td><td>+19:31:41.880000</td><td>2025-02-08T08:53:57</td><td>21.165</td><td>r</td></tr>\n",
       "<tr><td>calib_7DT15_T25365_20250208_090525_r_600.com.fits</td><td>14:16:21.840000</td><td>+19:31:41.880000</td><td>2025-02-08T09:05:25</td><td>21.025</td><td>r</td></tr>\n",
       "<tr><td>calib_7DT15_T25366_20250208_091654_r_600.com.fits</td><td>14:21:49.200000</td><td>+19:31:41.880000</td><td>2025-02-08T09:16:54</td><td>20.789</td><td>r</td></tr>\n",
       "</table></div>"
      ],
      "text/plain": [
       "<Table length=1545>\n",
       "                      image                              ra       ... filter\n",
       "                      str49                            str15      ...  str1 \n",
       "------------------------------------------------- --------------- ... ------\n",
       "calib_7DT07_T17600_20250207_012807_g_300.com.fits 09:38:03.840000 ...      g\n",
       "calib_7DT13_T23699_20250207_012811_g_300.com.fits 09:01:59.520000 ...      g\n",
       "calib_7DT14_T17321_20250207_012812_g_300.com.fits 09:38:03.816000 ...      g\n",
       "calib_7DT11_T23428_20250207_012813_g_300.com.fits 09:05:17.784000 ...      g\n",
       "calib_7DT12_T22608_20250207_012814_g_300.com.fits 09:09:49.200000 ...      g\n",
       "calib_7DT15_T23969_20250207_012814_g_300.com.fits 08:58:40.080000 ...      g\n",
       "calib_7DT09_T21226_20250207_012815_g_300.com.fits 09:14:14.640000 ...      g\n",
       "calib_7DT08_T21504_20250207_012817_g_300.com.fits 09:16:14.640000 ...      g\n",
       "calib_7DT04_T21781_20250207_012819_g_300.com.fits 09:16:14.664000 ...      g\n",
       "calib_7DT03_T20949_20250207_012820_g_300.com.fits 09:19:25.440000 ...      g\n",
       "                                              ...             ... ...    ...\n",
       "calib_7DT09_T01692_20250208_064221_r_300.com.fits 16:54:15.600000 ...      r\n",
       "calib_7DT08_T01579_20250208_064244_r_300.com.fits 17:04:51.840000 ...      r\n",
       "calib_7DT12_T01366_20250208_064320_r_300.com.fits 17:42:31.440000 ...      r\n",
       "calib_7DT03_T01471_20250208_064424_r_300.com.fits 17:29:43.200000 ...      r\n",
       "calib_7DT10_T01693_20250208_064442_r_300.com.fits 17:06:47.016000 ...      r\n",
       "calib_7DT04_T01580_20250208_064729_r_300.com.fits 17:17:50.160000 ...      r\n",
       "calib_7DT15_T25351_20250208_084017_r_600.com.fits 12:59:59.976000 ...      r\n",
       "calib_7DT15_T25363_20250208_085357_r_600.com.fits 14:05:27.360000 ...      r\n",
       "calib_7DT15_T25365_20250208_090525_r_600.com.fits 14:16:21.840000 ...      r\n",
       "calib_7DT15_T25366_20250208_091654_r_600.com.fits 14:21:49.200000 ...      r"
      ]
     },
     "execution_count": 6,
     "metadata": {},
     "output_type": "execute_result"
    }
   ],
   "source": [
    "intbl = Table.read(infile)\n",
    "intbl"
   ]
  },
  {
   "cell_type": "code",
   "execution_count": 8,
   "metadata": {},
   "outputs": [
    {
     "name": "stderr",
     "output_type": "stream",
     "text": [
      "usage: ipykernel_launcher.py [-h]\n",
      "                             S250206dm\n",
      "                             /lyman/data1/factory/250210_S250206dm.csv\n",
      "ipykernel_launcher.py: error: the following arguments are required: S250206dm, /lyman/data1/factory/250210_S250206dm.csv\n"
     ]
    },
    {
     "ename": "SystemExit",
     "evalue": "2",
     "output_type": "error",
     "traceback": [
      "An exception has occurred, use %tb to see the full traceback.\n",
      "\u001b[0;31mSystemExit\u001b[0m\u001b[0;31m:\u001b[0m 2\n"
     ]
    },
    {
     "name": "stderr",
     "output_type": "stream",
     "text": [
      "/usr/local/anaconda3/lib/python3.11/site-packages/IPython/core/interactiveshell.py:3513: UserWarning: To exit: use 'exit', 'quit', or Ctrl-D.\n",
      "  warn(\"To exit: use 'exit', 'quit', or Ctrl-D.\", stacklevel=1)\n"
     ]
    }
   ],
   "source": [
    "# if __name__ == \"__main__\":\n",
    "if (gwid != '') & (infile != ''):\n",
    "    parser = argparse.ArgumentParser(description='Submitting completed pointings')\n",
    "    parser.add_argument(gwid, help='GW superevent ID from LVK alert')\n",
    "    parser.add_argument(infile, help='Input file path')\n",
    "    sys.exit(register_pts(**vars(parser.parse_args())))  # raises if too few/many/unsupported args used\n",
    "else:\n",
    "    print(f\"Wrong Input\\n\\tGW ID={gwid}\\n\\tInput File={infile}\")"
   ]
  }
 ],
 "metadata": {
  "kernelspec": {
   "display_name": "base",
   "language": "python",
   "name": "python3"
  },
  "language_info": {
   "codemirror_mode": {
    "name": "ipython",
    "version": 3
   },
   "file_extension": ".py",
   "mimetype": "text/x-python",
   "name": "python",
   "nbconvert_exporter": "python",
   "pygments_lexer": "ipython3",
   "version": "3.11.4"
  }
 },
 "nbformat": 4,
 "nbformat_minor": 2
}
