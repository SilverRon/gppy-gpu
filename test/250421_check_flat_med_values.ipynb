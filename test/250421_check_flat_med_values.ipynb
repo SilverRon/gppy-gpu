{
 "cells": [
  {
   "cell_type": "code",
   "execution_count": 1,
   "id": "b78ff15d",
   "metadata": {},
   "outputs": [],
   "source": [
    "# Python Library\n",
    "import os\n",
    "import glob\n",
    "import sys\n",
    "import numpy as np\n",
    "\n",
    "from astropy.coordinates import SkyCoord\n",
    "from astropy.time import Time\n",
    "from astropy import units as u\n",
    "from astropy.io import fits\n",
    "from astropy.table import Table\n",
    "from astropy.table import vstack\n",
    "from astropy.table import hstack\n",
    "import warnings\n",
    "warnings.filterwarnings(\"ignore\")\n",
    "\n",
    "# Plot presetting\n",
    "import matplotlib.pyplot as plt\n",
    "import matplotlib as mpl\n",
    "\n",
    "# Jupyter Setting\n",
    "mpl.rcParams[\"axes.titlesize\"] = 14\n",
    "mpl.rcParams[\"axes.labelsize\"] = 20\n",
    "plt.rcParams['savefig.dpi'] = 500\n",
    "plt.rc('font', family='serif')"
   ]
  },
  {
   "cell_type": "code",
   "execution_count": 2,
   "id": "727b83c4",
   "metadata": {},
   "outputs": [],
   "source": [
    "unit = '7DT06'\n",
    "path_flat_image = f\"/lyman/data1/factory/master_frame_1x1_gain2750/{unit}/flat\""
   ]
  },
  {
   "cell_type": "code",
   "execution_count": 3,
   "id": "d456d343",
   "metadata": {},
   "outputs": [
    {
     "name": "stdout",
     "output_type": "stream",
     "text": [
      "Found 181 images in /lyman/data1/factory/master_frame_1x1_gain2750/7DT06/flat\n"
     ]
    }
   ],
   "source": [
    "images = sorted(glob.glob(f\"{path_flat_image}/202*-*.fits\"))\n",
    "print(f\"Found {len(images)} images in {path_flat_image}\")"
   ]
  },
  {
   "cell_type": "code",
   "execution_count": 7,
   "id": "8f718b39",
   "metadata": {},
   "outputs": [
    {
     "name": "stdout",
     "output_type": "stream",
     "text": [
      "7 FILTERS: ['g' 'i' 'm500' 'm600' 'm625' 'm775' 'r']\n"
     ]
    }
   ],
   "source": [
    "filters = np.unique([val.split('-')[1].replace(\".fits\", \"\").replace(\"n\", \"\") for val in images])\n",
    "print(f\"{len(filters)} FILTERS: {filters}\")"
   ]
  },
  {
   "cell_type": "code",
   "execution_count": 9,
   "id": "6eece313",
   "metadata": {},
   "outputs": [],
   "source": [
    "image_dict = {}\n",
    "for filte in filters:\n",
    "\timage_dict[filte] = sorted(glob.glob(f\"{path_flat_image}/*-n{filte}.fits\"))"
   ]
  },
  {
   "cell_type": "code",
   "execution_count": 10,
   "id": "3b7b8ea0",
   "metadata": {},
   "outputs": [],
   "source": [
    "outbl = Table()\n",
    "outbl['image'] = images\n",
    "outbl['filter'] = [val.split('-')[1].replace(\".fits\", \"\").replace(\"n\", \"\") for val in images]\n",
    "outbl['median_value'] = [-99.0]*len(images)"
   ]
  },
  {
   "cell_type": "code",
   "execution_count": 31,
   "id": "44ece51b",
   "metadata": {},
   "outputs": [
    {
     "name": "stdout",
     "output_type": "stream",
     "text": [
      "Processing 1/181: /lyman/data1/factory/master_frame_1x1_gain2750/7DT06/flat/20240313-ng.fits\n"
     ]
    },
    {
     "name": "stdout",
     "output_type": "stream",
     "text": [
      "Processing 2/181: /lyman/data1/factory/master_frame_1x1_gain2750/7DT06/flat/20240313-ni.fits\n",
      "Processing 3/181: /lyman/data1/factory/master_frame_1x1_gain2750/7DT06/flat/20240313-nm500.fits\n",
      "Processing 4/181: /lyman/data1/factory/master_frame_1x1_gain2750/7DT06/flat/20240313-nm600.fits\n",
      "Processing 5/181: /lyman/data1/factory/master_frame_1x1_gain2750/7DT06/flat/20240313-nm625.fits\n",
      "Processing 6/181: /lyman/data1/factory/master_frame_1x1_gain2750/7DT06/flat/20240313-nm775.fits\n",
      "Processing 7/181: /lyman/data1/factory/master_frame_1x1_gain2750/7DT06/flat/20240313-nr.fits\n",
      "Processing 8/181: /lyman/data1/factory/master_frame_1x1_gain2750/7DT06/flat/20240809-ng.fits\n",
      "Processing 9/181: /lyman/data1/factory/master_frame_1x1_gain2750/7DT06/flat/20240809-ni.fits\n",
      "Processing 10/181: /lyman/data1/factory/master_frame_1x1_gain2750/7DT06/flat/20240809-nm500.fits\n",
      "Processing 11/181: /lyman/data1/factory/master_frame_1x1_gain2750/7DT06/flat/20240809-nm600.fits\n",
      "Processing 12/181: /lyman/data1/factory/master_frame_1x1_gain2750/7DT06/flat/20240809-nm625.fits\n",
      "Processing 13/181: /lyman/data1/factory/master_frame_1x1_gain2750/7DT06/flat/20240809-nm775.fits\n",
      "Processing 14/181: /lyman/data1/factory/master_frame_1x1_gain2750/7DT06/flat/20240809-nr.fits\n",
      "Processing 15/181: /lyman/data1/factory/master_frame_1x1_gain2750/7DT06/flat/20240811-ng.fits\n",
      "Processing 16/181: /lyman/data1/factory/master_frame_1x1_gain2750/7DT06/flat/20240811-ni.fits\n",
      "Processing 17/181: /lyman/data1/factory/master_frame_1x1_gain2750/7DT06/flat/20240811-nm500.fits\n",
      "Processing 18/181: /lyman/data1/factory/master_frame_1x1_gain2750/7DT06/flat/20240811-nm600.fits\n",
      "Processing 19/181: /lyman/data1/factory/master_frame_1x1_gain2750/7DT06/flat/20240811-nm625.fits\n",
      "Processing 20/181: /lyman/data1/factory/master_frame_1x1_gain2750/7DT06/flat/20240811-nm775.fits\n",
      "Processing 21/181: /lyman/data1/factory/master_frame_1x1_gain2750/7DT06/flat/20240811-nr.fits\n",
      "Processing 22/181: /lyman/data1/factory/master_frame_1x1_gain2750/7DT06/flat/20240812-ng.fits\n",
      "Processing 23/181: /lyman/data1/factory/master_frame_1x1_gain2750/7DT06/flat/20240812-ni.fits\n",
      "Processing 24/181: /lyman/data1/factory/master_frame_1x1_gain2750/7DT06/flat/20240812-nm500.fits\n",
      "Processing 25/181: /lyman/data1/factory/master_frame_1x1_gain2750/7DT06/flat/20240812-nm600.fits\n",
      "Processing 26/181: /lyman/data1/factory/master_frame_1x1_gain2750/7DT06/flat/20240812-nm625.fits\n",
      "Processing 27/181: /lyman/data1/factory/master_frame_1x1_gain2750/7DT06/flat/20240812-nm775.fits\n",
      "Processing 28/181: /lyman/data1/factory/master_frame_1x1_gain2750/7DT06/flat/20240812-nr.fits\n",
      "Processing 29/181: /lyman/data1/factory/master_frame_1x1_gain2750/7DT06/flat/20240813-ng.fits\n",
      "Processing 30/181: /lyman/data1/factory/master_frame_1x1_gain2750/7DT06/flat/20240813-ni.fits\n",
      "Processing 31/181: /lyman/data1/factory/master_frame_1x1_gain2750/7DT06/flat/20240813-nm500.fits\n",
      "Processing 32/181: /lyman/data1/factory/master_frame_1x1_gain2750/7DT06/flat/20240813-nm600.fits\n",
      "Processing 33/181: /lyman/data1/factory/master_frame_1x1_gain2750/7DT06/flat/20240813-nm625.fits\n",
      "Processing 34/181: /lyman/data1/factory/master_frame_1x1_gain2750/7DT06/flat/20240813-nm775.fits\n",
      "Processing 35/181: /lyman/data1/factory/master_frame_1x1_gain2750/7DT06/flat/20240813-nr.fits\n",
      "Processing 36/181: /lyman/data1/factory/master_frame_1x1_gain2750/7DT06/flat/20240814-ng.fits\n",
      "Processing 37/181: /lyman/data1/factory/master_frame_1x1_gain2750/7DT06/flat/20240814-ni.fits\n",
      "Processing 38/181: /lyman/data1/factory/master_frame_1x1_gain2750/7DT06/flat/20240814-nm500.fits\n",
      "Processing 39/181: /lyman/data1/factory/master_frame_1x1_gain2750/7DT06/flat/20240814-nm600.fits\n",
      "Processing 40/181: /lyman/data1/factory/master_frame_1x1_gain2750/7DT06/flat/20240814-nm625.fits\n",
      "Processing 41/181: /lyman/data1/factory/master_frame_1x1_gain2750/7DT06/flat/20240814-nm775.fits\n",
      "Processing 42/181: /lyman/data1/factory/master_frame_1x1_gain2750/7DT06/flat/20240814-nr.fits\n",
      "Processing 43/181: /lyman/data1/factory/master_frame_1x1_gain2750/7DT06/flat/20240824-ng.fits\n",
      "Processing 44/181: /lyman/data1/factory/master_frame_1x1_gain2750/7DT06/flat/20240824-ni.fits\n",
      "Processing 45/181: /lyman/data1/factory/master_frame_1x1_gain2750/7DT06/flat/20240824-nm500.fits\n",
      "Processing 46/181: /lyman/data1/factory/master_frame_1x1_gain2750/7DT06/flat/20240824-nm600.fits\n",
      "Processing 47/181: /lyman/data1/factory/master_frame_1x1_gain2750/7DT06/flat/20240824-nm625.fits\n",
      "Processing 48/181: /lyman/data1/factory/master_frame_1x1_gain2750/7DT06/flat/20240824-nm775.fits\n",
      "Processing 49/181: /lyman/data1/factory/master_frame_1x1_gain2750/7DT06/flat/20240824-nr.fits\n",
      "Processing 50/181: /lyman/data1/factory/master_frame_1x1_gain2750/7DT06/flat/20240831-ng.fits\n",
      "Processing 51/181: /lyman/data1/factory/master_frame_1x1_gain2750/7DT06/flat/20240831-ni.fits\n",
      "Processing 52/181: /lyman/data1/factory/master_frame_1x1_gain2750/7DT06/flat/20240831-nm500.fits\n",
      "Processing 53/181: /lyman/data1/factory/master_frame_1x1_gain2750/7DT06/flat/20240831-nm600.fits\n",
      "Processing 54/181: /lyman/data1/factory/master_frame_1x1_gain2750/7DT06/flat/20240831-nm625.fits\n",
      "Processing 55/181: /lyman/data1/factory/master_frame_1x1_gain2750/7DT06/flat/20240831-nm775.fits\n",
      "Processing 56/181: /lyman/data1/factory/master_frame_1x1_gain2750/7DT06/flat/20240831-nr.fits\n",
      "Processing 57/181: /lyman/data1/factory/master_frame_1x1_gain2750/7DT06/flat/20240903-ng.fits\n",
      "Processing 58/181: /lyman/data1/factory/master_frame_1x1_gain2750/7DT06/flat/20240903-ni.fits\n",
      "Processing 59/181: /lyman/data1/factory/master_frame_1x1_gain2750/7DT06/flat/20240903-nm500.fits\n",
      "Processing 60/181: /lyman/data1/factory/master_frame_1x1_gain2750/7DT06/flat/20240903-nm600.fits\n",
      "Processing 61/181: /lyman/data1/factory/master_frame_1x1_gain2750/7DT06/flat/20240903-nm625.fits\n",
      "Processing 62/181: /lyman/data1/factory/master_frame_1x1_gain2750/7DT06/flat/20240903-nm775.fits\n",
      "Processing 63/181: /lyman/data1/factory/master_frame_1x1_gain2750/7DT06/flat/20240904-ng.fits\n",
      "Processing 64/181: /lyman/data1/factory/master_frame_1x1_gain2750/7DT06/flat/20240904-ni.fits\n",
      "Processing 65/181: /lyman/data1/factory/master_frame_1x1_gain2750/7DT06/flat/20240904-nm500.fits\n",
      "Processing 66/181: /lyman/data1/factory/master_frame_1x1_gain2750/7DT06/flat/20240904-nm600.fits\n",
      "Processing 67/181: /lyman/data1/factory/master_frame_1x1_gain2750/7DT06/flat/20240904-nm625.fits\n",
      "Processing 68/181: /lyman/data1/factory/master_frame_1x1_gain2750/7DT06/flat/20240904-nm775.fits\n",
      "Processing 69/181: /lyman/data1/factory/master_frame_1x1_gain2750/7DT06/flat/20240904-nr.fits\n",
      "Processing 70/181: /lyman/data1/factory/master_frame_1x1_gain2750/7DT06/flat/20240905-ng.fits\n",
      "Processing 71/181: /lyman/data1/factory/master_frame_1x1_gain2750/7DT06/flat/20240905-ni.fits\n",
      "Processing 72/181: /lyman/data1/factory/master_frame_1x1_gain2750/7DT06/flat/20240905-nm500.fits\n",
      "Processing 73/181: /lyman/data1/factory/master_frame_1x1_gain2750/7DT06/flat/20240905-nm600.fits\n",
      "Processing 74/181: /lyman/data1/factory/master_frame_1x1_gain2750/7DT06/flat/20240905-nm625.fits\n",
      "Processing 75/181: /lyman/data1/factory/master_frame_1x1_gain2750/7DT06/flat/20240905-nm775.fits\n",
      "Processing 76/181: /lyman/data1/factory/master_frame_1x1_gain2750/7DT06/flat/20240905-nr.fits\n",
      "Processing 77/181: /lyman/data1/factory/master_frame_1x1_gain2750/7DT06/flat/20240911-ng.fits\n",
      "Processing 78/181: /lyman/data1/factory/master_frame_1x1_gain2750/7DT06/flat/20240911-ni.fits\n",
      "Processing 79/181: /lyman/data1/factory/master_frame_1x1_gain2750/7DT06/flat/20240911-nm500.fits\n",
      "Processing 80/181: /lyman/data1/factory/master_frame_1x1_gain2750/7DT06/flat/20240911-nm600.fits\n",
      "Processing 81/181: /lyman/data1/factory/master_frame_1x1_gain2750/7DT06/flat/20240911-nm625.fits\n",
      "Processing 82/181: /lyman/data1/factory/master_frame_1x1_gain2750/7DT06/flat/20240911-nm775.fits\n",
      "Processing 83/181: /lyman/data1/factory/master_frame_1x1_gain2750/7DT06/flat/20240911-nr.fits\n",
      "Processing 84/181: /lyman/data1/factory/master_frame_1x1_gain2750/7DT06/flat/20240913-ng.fits\n",
      "Processing 85/181: /lyman/data1/factory/master_frame_1x1_gain2750/7DT06/flat/20240913-ni.fits\n",
      "Processing 86/181: /lyman/data1/factory/master_frame_1x1_gain2750/7DT06/flat/20240913-nm500.fits\n",
      "Processing 87/181: /lyman/data1/factory/master_frame_1x1_gain2750/7DT06/flat/20240913-nm600.fits\n",
      "Processing 88/181: /lyman/data1/factory/master_frame_1x1_gain2750/7DT06/flat/20240913-nm625.fits\n",
      "Processing 89/181: /lyman/data1/factory/master_frame_1x1_gain2750/7DT06/flat/20240913-nm775.fits\n",
      "Processing 90/181: /lyman/data1/factory/master_frame_1x1_gain2750/7DT06/flat/20240913-nr.fits\n",
      "Processing 91/181: /lyman/data1/factory/master_frame_1x1_gain2750/7DT06/flat/20240914-ng.fits\n",
      "Processing 92/181: /lyman/data1/factory/master_frame_1x1_gain2750/7DT06/flat/20240914-ni.fits\n",
      "Processing 93/181: /lyman/data1/factory/master_frame_1x1_gain2750/7DT06/flat/20240914-nm500.fits\n",
      "Processing 94/181: /lyman/data1/factory/master_frame_1x1_gain2750/7DT06/flat/20240914-nm600.fits\n",
      "Processing 95/181: /lyman/data1/factory/master_frame_1x1_gain2750/7DT06/flat/20240914-nm625.fits\n",
      "Processing 96/181: /lyman/data1/factory/master_frame_1x1_gain2750/7DT06/flat/20240914-nm775.fits\n",
      "Processing 97/181: /lyman/data1/factory/master_frame_1x1_gain2750/7DT06/flat/20240914-nr.fits\n",
      "Processing 98/181: /lyman/data1/factory/master_frame_1x1_gain2750/7DT06/flat/20240915-ng.fits\n",
      "Processing 99/181: /lyman/data1/factory/master_frame_1x1_gain2750/7DT06/flat/20240915-ni.fits\n",
      "Processing 100/181: /lyman/data1/factory/master_frame_1x1_gain2750/7DT06/flat/20240915-nm500.fits\n",
      "Processing 101/181: /lyman/data1/factory/master_frame_1x1_gain2750/7DT06/flat/20240915-nm600.fits\n",
      "Processing 102/181: /lyman/data1/factory/master_frame_1x1_gain2750/7DT06/flat/20240915-nm625.fits\n",
      "Processing 103/181: /lyman/data1/factory/master_frame_1x1_gain2750/7DT06/flat/20240915-nm775.fits\n",
      "Processing 104/181: /lyman/data1/factory/master_frame_1x1_gain2750/7DT06/flat/20240915-nr.fits\n",
      "Processing 105/181: /lyman/data1/factory/master_frame_1x1_gain2750/7DT06/flat/20240916-ng.fits\n",
      "Processing 106/181: /lyman/data1/factory/master_frame_1x1_gain2750/7DT06/flat/20240916-ni.fits\n",
      "Processing 107/181: /lyman/data1/factory/master_frame_1x1_gain2750/7DT06/flat/20240916-nm500.fits\n",
      "Processing 108/181: /lyman/data1/factory/master_frame_1x1_gain2750/7DT06/flat/20240916-nm600.fits\n",
      "Processing 109/181: /lyman/data1/factory/master_frame_1x1_gain2750/7DT06/flat/20240916-nm625.fits\n",
      "Processing 110/181: /lyman/data1/factory/master_frame_1x1_gain2750/7DT06/flat/20240916-nm775.fits\n",
      "Processing 111/181: /lyman/data1/factory/master_frame_1x1_gain2750/7DT06/flat/20240916-nr.fits\n",
      "Processing 112/181: /lyman/data1/factory/master_frame_1x1_gain2750/7DT06/flat/20240917-ng.fits\n",
      "Processing 113/181: /lyman/data1/factory/master_frame_1x1_gain2750/7DT06/flat/20240917-ni.fits\n",
      "Processing 114/181: /lyman/data1/factory/master_frame_1x1_gain2750/7DT06/flat/20240917-nm500.fits\n",
      "Processing 115/181: /lyman/data1/factory/master_frame_1x1_gain2750/7DT06/flat/20240917-nm600.fits\n",
      "Processing 116/181: /lyman/data1/factory/master_frame_1x1_gain2750/7DT06/flat/20240917-nm625.fits\n",
      "Processing 117/181: /lyman/data1/factory/master_frame_1x1_gain2750/7DT06/flat/20240917-nm775.fits\n",
      "Processing 118/181: /lyman/data1/factory/master_frame_1x1_gain2750/7DT06/flat/20240917-nr.fits\n",
      "Processing 119/181: /lyman/data1/factory/master_frame_1x1_gain2750/7DT06/flat/20240919-ng.fits\n",
      "Processing 120/181: /lyman/data1/factory/master_frame_1x1_gain2750/7DT06/flat/20240919-ni.fits\n",
      "Processing 121/181: /lyman/data1/factory/master_frame_1x1_gain2750/7DT06/flat/20240919-nm500.fits\n",
      "Processing 122/181: /lyman/data1/factory/master_frame_1x1_gain2750/7DT06/flat/20240919-nm600.fits\n",
      "Processing 123/181: /lyman/data1/factory/master_frame_1x1_gain2750/7DT06/flat/20240919-nm625.fits\n",
      "Processing 124/181: /lyman/data1/factory/master_frame_1x1_gain2750/7DT06/flat/20240919-nm775.fits\n",
      "Processing 125/181: /lyman/data1/factory/master_frame_1x1_gain2750/7DT06/flat/20240919-nr.fits\n",
      "Processing 126/181: /lyman/data1/factory/master_frame_1x1_gain2750/7DT06/flat/20240926-ng.fits\n",
      "Processing 127/181: /lyman/data1/factory/master_frame_1x1_gain2750/7DT06/flat/20240926-ni.fits\n",
      "Processing 128/181: /lyman/data1/factory/master_frame_1x1_gain2750/7DT06/flat/20240926-nm500.fits\n",
      "Processing 129/181: /lyman/data1/factory/master_frame_1x1_gain2750/7DT06/flat/20240926-nm600.fits\n",
      "Processing 130/181: /lyman/data1/factory/master_frame_1x1_gain2750/7DT06/flat/20240926-nm625.fits\n",
      "Processing 131/181: /lyman/data1/factory/master_frame_1x1_gain2750/7DT06/flat/20240926-nm775.fits\n",
      "Processing 132/181: /lyman/data1/factory/master_frame_1x1_gain2750/7DT06/flat/20240926-nr.fits\n",
      "Processing 133/181: /lyman/data1/factory/master_frame_1x1_gain2750/7DT06/flat/20240929-ng.fits\n",
      "Processing 134/181: /lyman/data1/factory/master_frame_1x1_gain2750/7DT06/flat/20240929-ni.fits\n",
      "Processing 135/181: /lyman/data1/factory/master_frame_1x1_gain2750/7DT06/flat/20240929-nm500.fits\n",
      "Processing 136/181: /lyman/data1/factory/master_frame_1x1_gain2750/7DT06/flat/20240929-nm600.fits\n",
      "Processing 137/181: /lyman/data1/factory/master_frame_1x1_gain2750/7DT06/flat/20240929-nm625.fits\n",
      "Processing 138/181: /lyman/data1/factory/master_frame_1x1_gain2750/7DT06/flat/20240929-nm775.fits\n",
      "Processing 139/181: /lyman/data1/factory/master_frame_1x1_gain2750/7DT06/flat/20240929-nr.fits\n",
      "Processing 140/181: /lyman/data1/factory/master_frame_1x1_gain2750/7DT06/flat/20241002-ng.fits\n",
      "Processing 141/181: /lyman/data1/factory/master_frame_1x1_gain2750/7DT06/flat/20241002-ni.fits\n",
      "Processing 142/181: /lyman/data1/factory/master_frame_1x1_gain2750/7DT06/flat/20241002-nm500.fits\n",
      "Processing 143/181: /lyman/data1/factory/master_frame_1x1_gain2750/7DT06/flat/20241002-nm600.fits\n",
      "Processing 144/181: /lyman/data1/factory/master_frame_1x1_gain2750/7DT06/flat/20241002-nm625.fits\n",
      "Processing 145/181: /lyman/data1/factory/master_frame_1x1_gain2750/7DT06/flat/20241002-nm775.fits\n",
      "Processing 146/181: /lyman/data1/factory/master_frame_1x1_gain2750/7DT06/flat/20241002-nr.fits\n",
      "Processing 147/181: /lyman/data1/factory/master_frame_1x1_gain2750/7DT06/flat/20241003-ng.fits\n",
      "Processing 148/181: /lyman/data1/factory/master_frame_1x1_gain2750/7DT06/flat/20241003-ni.fits\n",
      "Processing 149/181: /lyman/data1/factory/master_frame_1x1_gain2750/7DT06/flat/20241003-nm500.fits\n",
      "Processing 150/181: /lyman/data1/factory/master_frame_1x1_gain2750/7DT06/flat/20241003-nm600.fits\n",
      "Processing 151/181: /lyman/data1/factory/master_frame_1x1_gain2750/7DT06/flat/20241003-nm625.fits\n",
      "Processing 152/181: /lyman/data1/factory/master_frame_1x1_gain2750/7DT06/flat/20241003-nm775.fits\n",
      "Processing 153/181: /lyman/data1/factory/master_frame_1x1_gain2750/7DT06/flat/20241003-nr.fits\n",
      "Processing 154/181: /lyman/data1/factory/master_frame_1x1_gain2750/7DT06/flat/20241016-ng.fits\n",
      "Processing 155/181: /lyman/data1/factory/master_frame_1x1_gain2750/7DT06/flat/20241016-ni.fits\n",
      "Processing 156/181: /lyman/data1/factory/master_frame_1x1_gain2750/7DT06/flat/20241016-nm500.fits\n",
      "Processing 157/181: /lyman/data1/factory/master_frame_1x1_gain2750/7DT06/flat/20241016-nm600.fits\n",
      "Processing 158/181: /lyman/data1/factory/master_frame_1x1_gain2750/7DT06/flat/20241016-nm625.fits\n",
      "Processing 159/181: /lyman/data1/factory/master_frame_1x1_gain2750/7DT06/flat/20241016-nm775.fits\n",
      "Processing 160/181: /lyman/data1/factory/master_frame_1x1_gain2750/7DT06/flat/20241016-nr.fits\n",
      "Processing 161/181: /lyman/data1/factory/master_frame_1x1_gain2750/7DT06/flat/20241017-ng.fits\n",
      "Processing 162/181: /lyman/data1/factory/master_frame_1x1_gain2750/7DT06/flat/20241017-ni.fits\n",
      "Processing 163/181: /lyman/data1/factory/master_frame_1x1_gain2750/7DT06/flat/20241017-nm500.fits\n",
      "Processing 164/181: /lyman/data1/factory/master_frame_1x1_gain2750/7DT06/flat/20241017-nm600.fits\n",
      "Processing 165/181: /lyman/data1/factory/master_frame_1x1_gain2750/7DT06/flat/20241017-nm625.fits\n",
      "Processing 166/181: /lyman/data1/factory/master_frame_1x1_gain2750/7DT06/flat/20241017-nm775.fits\n",
      "Processing 167/181: /lyman/data1/factory/master_frame_1x1_gain2750/7DT06/flat/20241017-nr.fits\n",
      "Processing 168/181: /lyman/data1/factory/master_frame_1x1_gain2750/7DT06/flat/20241019-ng.fits\n",
      "Processing 169/181: /lyman/data1/factory/master_frame_1x1_gain2750/7DT06/flat/20241019-ni.fits\n",
      "Processing 170/181: /lyman/data1/factory/master_frame_1x1_gain2750/7DT06/flat/20241019-nm500.fits\n",
      "Processing 171/181: /lyman/data1/factory/master_frame_1x1_gain2750/7DT06/flat/20241019-nm600.fits\n",
      "Processing 172/181: /lyman/data1/factory/master_frame_1x1_gain2750/7DT06/flat/20241019-nm625.fits\n",
      "Processing 173/181: /lyman/data1/factory/master_frame_1x1_gain2750/7DT06/flat/20241019-nm775.fits\n",
      "Processing 174/181: /lyman/data1/factory/master_frame_1x1_gain2750/7DT06/flat/20241019-nr.fits\n",
      "Processing 175/181: /lyman/data1/factory/master_frame_1x1_gain2750/7DT06/flat/20241025-ng.fits\n",
      "Processing 176/181: /lyman/data1/factory/master_frame_1x1_gain2750/7DT06/flat/20241025-ni.fits\n",
      "Processing 177/181: /lyman/data1/factory/master_frame_1x1_gain2750/7DT06/flat/20241025-nm500.fits\n",
      "Processing 178/181: /lyman/data1/factory/master_frame_1x1_gain2750/7DT06/flat/20241025-nm600.fits\n",
      "Processing 179/181: /lyman/data1/factory/master_frame_1x1_gain2750/7DT06/flat/20241025-nm625.fits\n",
      "Processing 180/181: /lyman/data1/factory/master_frame_1x1_gain2750/7DT06/flat/20241025-nm775.fits\n",
      "Processing 181/181: /lyman/data1/factory/master_frame_1x1_gain2750/7DT06/flat/20241025-nr.fits\n"
     ]
    }
   ],
   "source": [
    "cutsize = 250\n",
    "\n",
    "for ii, image in enumerate(images):\n",
    "\tprint(f\"Processing {ii+1}/{len(images)}: {image}\")\n",
    "\ttry:\n",
    "\t\thdu = fits.open(image)\n",
    "\t\tdata = hdu[0].data\n",
    "\t\txsize, ysize = data.shape\n",
    "\t\t# print(f\"Image size: {xsize} x {ysize}\")\n",
    "\t\t# data = data.astype(np.float32)\n",
    "\t\tcenter_data = data[int(xsize/2)-cutsize:int(xsize/2)+cutsize, int(ysize/2)-cutsize:int(ysize/2)+cutsize]\n",
    "\n",
    "\t\t# Calculate the median value of the center region\n",
    "\t\tmedian_value = np.median(center_data)\n",
    "\t\toutbl['median_value'][ii] = median_value\n",
    "\n",
    "\texcept Exception as e:\n",
    "\t\tprint(f\"Error processing {image}: {e}\")\n",
    "\t\toutbl['median_value'][ii] = -99.0"
   ]
  },
  {
   "cell_type": "code",
   "execution_count": 32,
   "id": "e77b16bf",
   "metadata": {},
   "outputs": [
    {
     "data": {
      "image/png": "[encoded data removed]",
      "text/plain": [
       "<Figure size 800x500 with 1 Axes>"
      ]
     },
     "metadata": {},
     "output_type": "display_data"
    }
   ],
   "source": [
    "fig = plt.figure(figsize=(8, 5))\n",
    "\n",
    "bins = np.arange(1.05, 1.075+0.001, 0.001)\n",
    "\n",
    "\n",
    "for ff, filte in enumerate(filters):\n",
    "\tsubtbl = outbl[outbl['filter'] == filte]\n",
    "\tmedian_values = subtbl['median_value'].data\n",
    "\t# plt.subplot(3, 3, ff+1)\n",
    "\tplt.hist(median_values, histtype='step', lw=3, label=filte, bins=bins, density=True)\n",
    "plt.legend()\n",
    "plt.yticks([])\n",
    "plt.ylabel(\"Density\")\n",
    "plt.xlabel(\"Median Value\")\n",
    "plt.tight_layout()"
   ]
  },
  {
   "cell_type": "code",
   "execution_count": 34,
   "id": "2eb819b6",
   "metadata": {},
   "outputs": [
    {
     "data": {
      "text/plain": [
       "(59995.348837209305, 61423.80952380952)"
      ]
     },
     "execution_count": 34,
     "metadata": {},
     "output_type": "execute_result"
    }
   ],
   "source": [
    "(65*1e3 - 5 - 500)/1.075, (65*1e3 - 5 - 500)/1.050"
   ]
  }
 ],
 "metadata": {
  "kernelspec": {
   "display_name": "Python 3",
   "language": "python",
   "name": "python3"
  },
  "language_info": {
   "codemirror_mode": {
    "name": "ipython",
    "version": 3
   },
   "file_extension": ".py",
   "mimetype": "text/x-python",
   "name": "python",
   "nbconvert_exporter": "python",
   "pygments_lexer": "ipython3",
   "version": "3.10.13"
  }
 },
 "nbformat": 4,
 "nbformat_minor": 5
}
