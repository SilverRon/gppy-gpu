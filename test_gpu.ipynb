{
 "cells": [
  {
   "cell_type": "code",
   "execution_count": null,
   "metadata": {},
   "outputs": [],
   "source": [
    "#\tGregory S.H. Paek\n",
    "#\t22.07.30\n",
    "#============================================================\n",
    "#\tLibrary\n",
    "#------------------------------------------------------------\n",
    "#\tGPU image process library\n",
    "from eclaire import FitsContainer, reduction, fixpix, imalign, imcombine\n",
    "#\tGeneral \n",
    "import os\n",
    "import glob\n",
    "import time\n",
    "t00 = time.time()\n",
    "#\tMemory management\n",
    "import cupy\n",
    "import numpy as np\n",
    "mempool = cupy.get_default_memory_pool()\n",
    "print(f\"Default GPU Memory Usage : {mempool.used_bytes()*1e-6:1.1f} Mbytes\")"
   ]
  },
  {
   "cell_type": "code",
   "execution_count": null,
   "metadata": {},
   "outputs": [],
   "source": []
  }
 ],
 "metadata": {
  "language_info": {
   "name": "python"
  },
  "orig_nbformat": 4
 },
 "nbformat": 4,
 "nbformat_minor": 2
}
